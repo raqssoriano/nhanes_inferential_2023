{
  "nbformat": 4,
  "nbformat_minor": 0,
  "metadata": {
    "colab": {
      "provenance": []
    },
    "kernelspec": {
      "name": "python3",
      "display_name": "Python 3"
    },
    "language_info": {
      "name": "python"
    }
  },
  "cells": [
    {
      "cell_type": "markdown",
      "source": [
        "# **National Health and Nutrition Examination Survey (NHANES) 2022-2023**"
      ],
      "metadata": {
        "id": "nYCmiJcEfmNu"
      }
    },
    {
      "cell_type": "markdown",
      "source": [
        "Link to the data used in this assignment: [NHANES 2021-2023](https://wwwn.cdc.gov/nchs/nhanes/continuousnhanes/default.aspx?Cycle=2021-2023)"
      ],
      "metadata": {
        "id": "-bvZJgWdf_eN"
      }
    },
    {
      "cell_type": "markdown",
      "source": [
        "## ✔︎ _**Steps Taken Prior to Performing the Inferential Analysis**_\n",
        "\n",
        "### 1. Downloaded the applicable data files from NHANES to my laptop.\n",
        "### 2. Uploaded the necessary data files for each [question](https://github.com/raqssoriano/nhanes_inferential_2023?tab=readme-ov-file#inferential-analysis) to be answered through the inferential analysis.\n",
        "### 3. I familiarized myself with the [NHANES data variables](https://github.com/raqssoriano/nhanes_inferential_2023?tab=readme-ov-file#dataset-overview) to be used for the analysis.\n",
        "### 4. Using Python in **Google Colab**, I installed the necessary packages to successfully run the scripts for the inferential analysis.\n",
        "### 5. I performed the necessary data cleaning, which included recoding, removing certain values, and dropping specific rows/columns as needed."
      ],
      "metadata": {
        "id": "h-yKdG2zJxcu"
      }
    },
    {
      "cell_type": "code",
      "execution_count": 85,
      "metadata": {
        "colab": {
          "base_uri": "https://localhost:8080/",
          "height": 423
        },
        "id": "Gm3OoLH8ee0v",
        "outputId": "1dc67a53-d0a7-48e6-9730-cc744cdaa972"
      },
      "outputs": [
        {
          "output_type": "execute_result",
          "data": {
            "text/plain": [
              "          SEQN  WHD010  WHD020  WHD050  WHQ070\n",
              "0     130378.0    71.0   190.0   200.0     1.0\n",
              "1     130379.0    70.0   220.0   220.0     2.0\n",
              "2     130380.0    60.0   150.0   165.0     1.0\n",
              "3     130384.0    68.0   204.0   212.0     1.0\n",
              "4     130385.0    70.0   240.0   240.0     2.0\n",
              "...        ...     ...     ...     ...     ...\n",
              "8496  142305.0    61.0   137.0   134.0     2.0\n",
              "8497  142307.0    61.0   206.0   235.0     1.0\n",
              "8498  142308.0    69.0   174.0   180.0     1.0\n",
              "8499  142309.0    69.0   200.0   170.0     2.0\n",
              "8500  142310.0    64.0   157.0   157.0     1.0\n",
              "\n",
              "[8501 rows x 5 columns]"
            ],
            "text/html": [
              "\n",
              "  <div id=\"df-9623e443-c949-46ae-8917-3916066f287d\" class=\"colab-df-container\">\n",
              "    <div>\n",
              "<style scoped>\n",
              "    .dataframe tbody tr th:only-of-type {\n",
              "        vertical-align: middle;\n",
              "    }\n",
              "\n",
              "    .dataframe tbody tr th {\n",
              "        vertical-align: top;\n",
              "    }\n",
              "\n",
              "    .dataframe thead th {\n",
              "        text-align: right;\n",
              "    }\n",
              "</style>\n",
              "<table border=\"1\" class=\"dataframe\">\n",
              "  <thead>\n",
              "    <tr style=\"text-align: right;\">\n",
              "      <th></th>\n",
              "      <th>SEQN</th>\n",
              "      <th>WHD010</th>\n",
              "      <th>WHD020</th>\n",
              "      <th>WHD050</th>\n",
              "      <th>WHQ070</th>\n",
              "    </tr>\n",
              "  </thead>\n",
              "  <tbody>\n",
              "    <tr>\n",
              "      <th>0</th>\n",
              "      <td>130378.0</td>\n",
              "      <td>71.0</td>\n",
              "      <td>190.0</td>\n",
              "      <td>200.0</td>\n",
              "      <td>1.0</td>\n",
              "    </tr>\n",
              "    <tr>\n",
              "      <th>1</th>\n",
              "      <td>130379.0</td>\n",
              "      <td>70.0</td>\n",
              "      <td>220.0</td>\n",
              "      <td>220.0</td>\n",
              "      <td>2.0</td>\n",
              "    </tr>\n",
              "    <tr>\n",
              "      <th>2</th>\n",
              "      <td>130380.0</td>\n",
              "      <td>60.0</td>\n",
              "      <td>150.0</td>\n",
              "      <td>165.0</td>\n",
              "      <td>1.0</td>\n",
              "    </tr>\n",
              "    <tr>\n",
              "      <th>3</th>\n",
              "      <td>130384.0</td>\n",
              "      <td>68.0</td>\n",
              "      <td>204.0</td>\n",
              "      <td>212.0</td>\n",
              "      <td>1.0</td>\n",
              "    </tr>\n",
              "    <tr>\n",
              "      <th>4</th>\n",
              "      <td>130385.0</td>\n",
              "      <td>70.0</td>\n",
              "      <td>240.0</td>\n",
              "      <td>240.0</td>\n",
              "      <td>2.0</td>\n",
              "    </tr>\n",
              "    <tr>\n",
              "      <th>...</th>\n",
              "      <td>...</td>\n",
              "      <td>...</td>\n",
              "      <td>...</td>\n",
              "      <td>...</td>\n",
              "      <td>...</td>\n",
              "    </tr>\n",
              "    <tr>\n",
              "      <th>8496</th>\n",
              "      <td>142305.0</td>\n",
              "      <td>61.0</td>\n",
              "      <td>137.0</td>\n",
              "      <td>134.0</td>\n",
              "      <td>2.0</td>\n",
              "    </tr>\n",
              "    <tr>\n",
              "      <th>8497</th>\n",
              "      <td>142307.0</td>\n",
              "      <td>61.0</td>\n",
              "      <td>206.0</td>\n",
              "      <td>235.0</td>\n",
              "      <td>1.0</td>\n",
              "    </tr>\n",
              "    <tr>\n",
              "      <th>8498</th>\n",
              "      <td>142308.0</td>\n",
              "      <td>69.0</td>\n",
              "      <td>174.0</td>\n",
              "      <td>180.0</td>\n",
              "      <td>1.0</td>\n",
              "    </tr>\n",
              "    <tr>\n",
              "      <th>8499</th>\n",
              "      <td>142309.0</td>\n",
              "      <td>69.0</td>\n",
              "      <td>200.0</td>\n",
              "      <td>170.0</td>\n",
              "      <td>2.0</td>\n",
              "    </tr>\n",
              "    <tr>\n",
              "      <th>8500</th>\n",
              "      <td>142310.0</td>\n",
              "      <td>64.0</td>\n",
              "      <td>157.0</td>\n",
              "      <td>157.0</td>\n",
              "      <td>1.0</td>\n",
              "    </tr>\n",
              "  </tbody>\n",
              "</table>\n",
              "<p>8501 rows × 5 columns</p>\n",
              "</div>\n",
              "    <div class=\"colab-df-buttons\">\n",
              "\n",
              "  <div class=\"colab-df-container\">\n",
              "    <button class=\"colab-df-convert\" onclick=\"convertToInteractive('df-9623e443-c949-46ae-8917-3916066f287d')\"\n",
              "            title=\"Convert this dataframe to an interactive table.\"\n",
              "            style=\"display:none;\">\n",
              "\n",
              "  <svg xmlns=\"http://www.w3.org/2000/svg\" height=\"24px\" viewBox=\"0 -960 960 960\">\n",
              "    <path d=\"M120-120v-720h720v720H120Zm60-500h600v-160H180v160Zm220 220h160v-160H400v160Zm0 220h160v-160H400v160ZM180-400h160v-160H180v160Zm440 0h160v-160H620v160ZM180-180h160v-160H180v160Zm440 0h160v-160H620v160Z\"/>\n",
              "  </svg>\n",
              "    </button>\n",
              "\n",
              "  <style>\n",
              "    .colab-df-container {\n",
              "      display:flex;\n",
              "      gap: 12px;\n",
              "    }\n",
              "\n",
              "    .colab-df-convert {\n",
              "      background-color: #E8F0FE;\n",
              "      border: none;\n",
              "      border-radius: 50%;\n",
              "      cursor: pointer;\n",
              "      display: none;\n",
              "      fill: #1967D2;\n",
              "      height: 32px;\n",
              "      padding: 0 0 0 0;\n",
              "      width: 32px;\n",
              "    }\n",
              "\n",
              "    .colab-df-convert:hover {\n",
              "      background-color: #E2EBFA;\n",
              "      box-shadow: 0px 1px 2px rgba(60, 64, 67, 0.3), 0px 1px 3px 1px rgba(60, 64, 67, 0.15);\n",
              "      fill: #174EA6;\n",
              "    }\n",
              "\n",
              "    .colab-df-buttons div {\n",
              "      margin-bottom: 4px;\n",
              "    }\n",
              "\n",
              "    [theme=dark] .colab-df-convert {\n",
              "      background-color: #3B4455;\n",
              "      fill: #D2E3FC;\n",
              "    }\n",
              "\n",
              "    [theme=dark] .colab-df-convert:hover {\n",
              "      background-color: #434B5C;\n",
              "      box-shadow: 0px 1px 3px 1px rgba(0, 0, 0, 0.15);\n",
              "      filter: drop-shadow(0px 1px 2px rgba(0, 0, 0, 0.3));\n",
              "      fill: #FFFFFF;\n",
              "    }\n",
              "  </style>\n",
              "\n",
              "    <script>\n",
              "      const buttonEl =\n",
              "        document.querySelector('#df-9623e443-c949-46ae-8917-3916066f287d button.colab-df-convert');\n",
              "      buttonEl.style.display =\n",
              "        google.colab.kernel.accessAllowed ? 'block' : 'none';\n",
              "\n",
              "      async function convertToInteractive(key) {\n",
              "        const element = document.querySelector('#df-9623e443-c949-46ae-8917-3916066f287d');\n",
              "        const dataTable =\n",
              "          await google.colab.kernel.invokeFunction('convertToInteractive',\n",
              "                                                    [key], {});\n",
              "        if (!dataTable) return;\n",
              "\n",
              "        const docLinkHtml = 'Like what you see? Visit the ' +\n",
              "          '<a target=\"_blank\" href=https://colab.research.google.com/notebooks/data_table.ipynb>data table notebook</a>'\n",
              "          + ' to learn more about interactive tables.';\n",
              "        element.innerHTML = '';\n",
              "        dataTable['output_type'] = 'display_data';\n",
              "        await google.colab.output.renderOutput(dataTable, element);\n",
              "        const docLink = document.createElement('div');\n",
              "        docLink.innerHTML = docLinkHtml;\n",
              "        element.appendChild(docLink);\n",
              "      }\n",
              "    </script>\n",
              "  </div>\n",
              "\n",
              "\n",
              "<div id=\"df-3e1a82cb-68b1-492c-8c2e-3227b9af881f\">\n",
              "  <button class=\"colab-df-quickchart\" onclick=\"quickchart('df-3e1a82cb-68b1-492c-8c2e-3227b9af881f')\"\n",
              "            title=\"Suggest charts\"\n",
              "            style=\"display:none;\">\n",
              "\n",
              "<svg xmlns=\"http://www.w3.org/2000/svg\" height=\"24px\"viewBox=\"0 0 24 24\"\n",
              "     width=\"24px\">\n",
              "    <g>\n",
              "        <path d=\"M19 3H5c-1.1 0-2 .9-2 2v14c0 1.1.9 2 2 2h14c1.1 0 2-.9 2-2V5c0-1.1-.9-2-2-2zM9 17H7v-7h2v7zm4 0h-2V7h2v10zm4 0h-2v-4h2v4z\"/>\n",
              "    </g>\n",
              "</svg>\n",
              "  </button>\n",
              "\n",
              "<style>\n",
              "  .colab-df-quickchart {\n",
              "      --bg-color: #E8F0FE;\n",
              "      --fill-color: #1967D2;\n",
              "      --hover-bg-color: #E2EBFA;\n",
              "      --hover-fill-color: #174EA6;\n",
              "      --disabled-fill-color: #AAA;\n",
              "      --disabled-bg-color: #DDD;\n",
              "  }\n",
              "\n",
              "  [theme=dark] .colab-df-quickchart {\n",
              "      --bg-color: #3B4455;\n",
              "      --fill-color: #D2E3FC;\n",
              "      --hover-bg-color: #434B5C;\n",
              "      --hover-fill-color: #FFFFFF;\n",
              "      --disabled-bg-color: #3B4455;\n",
              "      --disabled-fill-color: #666;\n",
              "  }\n",
              "\n",
              "  .colab-df-quickchart {\n",
              "    background-color: var(--bg-color);\n",
              "    border: none;\n",
              "    border-radius: 50%;\n",
              "    cursor: pointer;\n",
              "    display: none;\n",
              "    fill: var(--fill-color);\n",
              "    height: 32px;\n",
              "    padding: 0;\n",
              "    width: 32px;\n",
              "  }\n",
              "\n",
              "  .colab-df-quickchart:hover {\n",
              "    background-color: var(--hover-bg-color);\n",
              "    box-shadow: 0 1px 2px rgba(60, 64, 67, 0.3), 0 1px 3px 1px rgba(60, 64, 67, 0.15);\n",
              "    fill: var(--button-hover-fill-color);\n",
              "  }\n",
              "\n",
              "  .colab-df-quickchart-complete:disabled,\n",
              "  .colab-df-quickchart-complete:disabled:hover {\n",
              "    background-color: var(--disabled-bg-color);\n",
              "    fill: var(--disabled-fill-color);\n",
              "    box-shadow: none;\n",
              "  }\n",
              "\n",
              "  .colab-df-spinner {\n",
              "    border: 2px solid var(--fill-color);\n",
              "    border-color: transparent;\n",
              "    border-bottom-color: var(--fill-color);\n",
              "    animation:\n",
              "      spin 1s steps(1) infinite;\n",
              "  }\n",
              "\n",
              "  @keyframes spin {\n",
              "    0% {\n",
              "      border-color: transparent;\n",
              "      border-bottom-color: var(--fill-color);\n",
              "      border-left-color: var(--fill-color);\n",
              "    }\n",
              "    20% {\n",
              "      border-color: transparent;\n",
              "      border-left-color: var(--fill-color);\n",
              "      border-top-color: var(--fill-color);\n",
              "    }\n",
              "    30% {\n",
              "      border-color: transparent;\n",
              "      border-left-color: var(--fill-color);\n",
              "      border-top-color: var(--fill-color);\n",
              "      border-right-color: var(--fill-color);\n",
              "    }\n",
              "    40% {\n",
              "      border-color: transparent;\n",
              "      border-right-color: var(--fill-color);\n",
              "      border-top-color: var(--fill-color);\n",
              "    }\n",
              "    60% {\n",
              "      border-color: transparent;\n",
              "      border-right-color: var(--fill-color);\n",
              "    }\n",
              "    80% {\n",
              "      border-color: transparent;\n",
              "      border-right-color: var(--fill-color);\n",
              "      border-bottom-color: var(--fill-color);\n",
              "    }\n",
              "    90% {\n",
              "      border-color: transparent;\n",
              "      border-bottom-color: var(--fill-color);\n",
              "    }\n",
              "  }\n",
              "</style>\n",
              "\n",
              "  <script>\n",
              "    async function quickchart(key) {\n",
              "      const quickchartButtonEl =\n",
              "        document.querySelector('#' + key + ' button');\n",
              "      quickchartButtonEl.disabled = true;  // To prevent multiple clicks.\n",
              "      quickchartButtonEl.classList.add('colab-df-spinner');\n",
              "      try {\n",
              "        const charts = await google.colab.kernel.invokeFunction(\n",
              "            'suggestCharts', [key], {});\n",
              "      } catch (error) {\n",
              "        console.error('Error during call to suggestCharts:', error);\n",
              "      }\n",
              "      quickchartButtonEl.classList.remove('colab-df-spinner');\n",
              "      quickchartButtonEl.classList.add('colab-df-quickchart-complete');\n",
              "    }\n",
              "    (() => {\n",
              "      let quickchartButtonEl =\n",
              "        document.querySelector('#df-3e1a82cb-68b1-492c-8c2e-3227b9af881f button');\n",
              "      quickchartButtonEl.style.display =\n",
              "        google.colab.kernel.accessAllowed ? 'block' : 'none';\n",
              "    })();\n",
              "  </script>\n",
              "</div>\n",
              "\n",
              "  <div id=\"id_adf195a8-a300-48cf-868f-954e80eeafe1\">\n",
              "    <style>\n",
              "      .colab-df-generate {\n",
              "        background-color: #E8F0FE;\n",
              "        border: none;\n",
              "        border-radius: 50%;\n",
              "        cursor: pointer;\n",
              "        display: none;\n",
              "        fill: #1967D2;\n",
              "        height: 32px;\n",
              "        padding: 0 0 0 0;\n",
              "        width: 32px;\n",
              "      }\n",
              "\n",
              "      .colab-df-generate:hover {\n",
              "        background-color: #E2EBFA;\n",
              "        box-shadow: 0px 1px 2px rgba(60, 64, 67, 0.3), 0px 1px 3px 1px rgba(60, 64, 67, 0.15);\n",
              "        fill: #174EA6;\n",
              "      }\n",
              "\n",
              "      [theme=dark] .colab-df-generate {\n",
              "        background-color: #3B4455;\n",
              "        fill: #D2E3FC;\n",
              "      }\n",
              "\n",
              "      [theme=dark] .colab-df-generate:hover {\n",
              "        background-color: #434B5C;\n",
              "        box-shadow: 0px 1px 3px 1px rgba(0, 0, 0, 0.15);\n",
              "        filter: drop-shadow(0px 1px 2px rgba(0, 0, 0, 0.3));\n",
              "        fill: #FFFFFF;\n",
              "      }\n",
              "    </style>\n",
              "    <button class=\"colab-df-generate\" onclick=\"generateWithVariable('weight')\"\n",
              "            title=\"Generate code using this dataframe.\"\n",
              "            style=\"display:none;\">\n",
              "\n",
              "  <svg xmlns=\"http://www.w3.org/2000/svg\" height=\"24px\"viewBox=\"0 0 24 24\"\n",
              "       width=\"24px\">\n",
              "    <path d=\"M7,19H8.4L18.45,9,17,7.55,7,17.6ZM5,21V16.75L18.45,3.32a2,2,0,0,1,2.83,0l1.4,1.43a1.91,1.91,0,0,1,.58,1.4,1.91,1.91,0,0,1-.58,1.4L9.25,21ZM18.45,9,17,7.55Zm-12,3A5.31,5.31,0,0,0,4.9,8.1,5.31,5.31,0,0,0,1,6.5,5.31,5.31,0,0,0,4.9,4.9,5.31,5.31,0,0,0,6.5,1,5.31,5.31,0,0,0,8.1,4.9,5.31,5.31,0,0,0,12,6.5,5.46,5.46,0,0,0,6.5,12Z\"/>\n",
              "  </svg>\n",
              "    </button>\n",
              "    <script>\n",
              "      (() => {\n",
              "      const buttonEl =\n",
              "        document.querySelector('#id_adf195a8-a300-48cf-868f-954e80eeafe1 button.colab-df-generate');\n",
              "      buttonEl.style.display =\n",
              "        google.colab.kernel.accessAllowed ? 'block' : 'none';\n",
              "\n",
              "      buttonEl.onclick = () => {\n",
              "        google.colab.notebook.generateWithVariable('weight');\n",
              "      }\n",
              "      })();\n",
              "    </script>\n",
              "  </div>\n",
              "\n",
              "    </div>\n",
              "  </div>\n"
            ],
            "application/vnd.google.colaboratory.intrinsic+json": {
              "type": "dataframe",
              "variable_name": "weight",
              "summary": "{\n  \"name\": \"weight\",\n  \"rows\": 8501,\n  \"fields\": [\n    {\n      \"column\": \"SEQN\",\n      \"properties\": {\n        \"dtype\": \"number\",\n        \"std\": 3443.283288928816,\n        \"min\": 130378.0,\n        \"max\": 142310.0,\n        \"num_unique_values\": 8501,\n        \"samples\": [\n          135868.0,\n          139983.0,\n          141576.0\n        ],\n        \"semantic_type\": \"\",\n        \"description\": \"\"\n      }\n    },\n    {\n      \"column\": \"WHD010\",\n      \"properties\": {\n        \"dtype\": \"number\",\n        \"std\": 906.0456723814625,\n        \"min\": 40.0,\n        \"max\": 9999.0,\n        \"num_unique_values\": 37,\n        \"samples\": [\n          57.0,\n          59.0,\n          67.0\n        ],\n        \"semantic_type\": \"\",\n        \"description\": \"\"\n      }\n    },\n    {\n      \"column\": \"WHD020\",\n      \"properties\": {\n        \"dtype\": \"number\",\n        \"std\": 1120.4765501370566,\n        \"min\": 63.0,\n        \"max\": 9999.0,\n        \"num_unique_values\": 273,\n        \"samples\": [\n          136.0,\n          202.0,\n          245.0\n        ],\n        \"semantic_type\": \"\",\n        \"description\": \"\"\n      }\n    },\n    {\n      \"column\": \"WHD050\",\n      \"properties\": {\n        \"dtype\": \"number\",\n        \"std\": 1491.928101530004,\n        \"min\": 67.0,\n        \"max\": 9999.0,\n        \"num_unique_values\": 273,\n        \"samples\": [\n          181.0,\n          171.0,\n          125.0\n        ],\n        \"semantic_type\": \"\",\n        \"description\": \"\"\n      }\n    },\n    {\n      \"column\": \"WHQ070\",\n      \"properties\": {\n        \"dtype\": \"number\",\n        \"std\": 0.5205616044226589,\n        \"min\": 1.0,\n        \"max\": 9.0,\n        \"num_unique_values\": 4,\n        \"samples\": [\n          2.0,\n          9.0,\n          1.0\n        ],\n        \"semantic_type\": \"\",\n        \"description\": \"\"\n      }\n    }\n  ]\n}"
            }
          },
          "metadata": {},
          "execution_count": 85
        }
      ],
      "source": [
        "# Load the necessary data file\n",
        "\n",
        "import pandas as pd\n",
        "\n",
        "\n",
        "demographics = pd.read_sas('/content/DEMO_L.XPT', format='xport')\n",
        "demographics\n",
        "\n",
        "bp = pd.read_sas('/content/BPXO_L.XPT', format='xport')\n",
        "bp\n",
        "\n",
        "vit_d = pd.read_sas('/content/VID_L.XPT', format='xport')\n",
        "vit_d\n",
        "\n",
        "hep_b = pd.read_sas('/content/HEPB_S_L.XPT', format='xport')\n",
        "hep_b\n",
        "\n",
        "nephro_uro = pd.read_sas('/content/KIQ_U_L.XPT', format='xport')\n",
        "nephro_uro\n",
        "\n",
        "p_activity = pd.read_sas('/content/PAQ_L.XPT', format='xport')\n",
        "p_activity\n",
        "\n",
        "weight = pd.read_sas('/content/WHQ_L.XPT', format='xport')\n",
        "weight\n"
      ]
    },
    {
      "cell_type": "markdown",
      "source": [
        "#### 5.1 Recoding some key variables (data file) prior to performing the analysis as instructed."
      ],
      "metadata": {
        "id": "-nq1AQdyxg5H"
      }
    },
    {
      "cell_type": "code",
      "source": [
        "# Recoding the key variables--Marital Status (Married & Not Married)\n",
        "\n",
        "demographics['DMDMARTZ'] = demographics['DMDMARTZ'].replace({1: 'Married', 2: 'Not Married', 3: 'Not Married'}).fillna('Unknown')\n",
        "print(demographics['DMDMARTZ'])\n"
      ],
      "metadata": {
        "colab": {
          "base_uri": "https://localhost:8080/"
        },
        "collapsed": true,
        "id": "K48FIbT9ruHx",
        "outputId": "cb2ad8d2-c1c3-47d4-92dd-90e771a1100d"
      },
      "execution_count": 87,
      "outputs": [
        {
          "output_type": "stream",
          "name": "stdout",
          "text": [
            "0            Married\n",
            "1            Married\n",
            "2            Married\n",
            "3            Unknown\n",
            "4            Unknown\n",
            "            ...     \n",
            "11928        Unknown\n",
            "11929    Not Married\n",
            "11930        Married\n",
            "11931    Not Married\n",
            "11932        Married\n",
            "Name: DMDMARTZ, Length: 11933, dtype: object\n"
          ]
        }
      ]
    },
    {
      "cell_type": "code",
      "source": [
        "# Recoding the key variables--Education Level (Bachelor’s or Higher vs. Less than Bachelor’s)\n",
        "\n",
        "demographics['DMDEDUC2'] = demographics['DMDEDUC2'].replace({1: 'Less than Highschool or Less than Bachelors', 2: 'Less than Highschool or Less than Bachelors', 3: 'High School Graduate or Less than Bachelors', 4: 'Some College or Less than Bachelors', 5: 'College Graduate or Bachelors or Higher'}).fillna('Unknown')\n",
        "print(demographics['DMDEDUC2'])\n"
      ],
      "metadata": {
        "colab": {
          "base_uri": "https://localhost:8080/"
        },
        "collapsed": true,
        "id": "kwVVgKyrn43O",
        "outputId": "3ce7a3dd-6801-4c3c-c931-a614d25c8df6"
      },
      "execution_count": 88,
      "outputs": [
        {
          "output_type": "stream",
          "name": "stdout",
          "text": [
            "0            College Graduate or Bachelors or Higher\n",
            "1            College Graduate or Bachelors or Higher\n",
            "2        High School Graduate or Less than Bachelors\n",
            "3                                            Unknown\n",
            "4                                            Unknown\n",
            "                            ...                     \n",
            "11928                                        Unknown\n",
            "11929        College Graduate or Bachelors or Higher\n",
            "11930            Some College or Less than Bachelors\n",
            "11931            Some College or Less than Bachelors\n",
            "11932    High School Graduate or Less than Bachelors\n",
            "Name: DMDEDUC2, Length: 11933, dtype: object\n"
          ]
        }
      ]
    },
    {
      "cell_type": "code",
      "source": [
        "# Recoding the key variables--Hep B Antibodies (two levels)\n",
        "\n",
        "hep_b = hep_b['LBXHBS'].replace({1: 'Positive', 2: 'Negative', 3: 'Negative'}).fillna('Unknown')\n",
        "print(hep_b)\n"
      ],
      "metadata": {
        "colab": {
          "base_uri": "https://localhost:8080/"
        },
        "collapsed": true,
        "id": "gVV5DlRizEGE",
        "outputId": "061f9635-1472-4101-b548-5b93ef6b1685"
      },
      "execution_count": 89,
      "outputs": [
        {
          "output_type": "stream",
          "name": "stdout",
          "text": [
            "0       Negative\n",
            "1       Negative\n",
            "2       Negative\n",
            "3        Unknown\n",
            "4       Negative\n",
            "          ...   \n",
            "8606     Unknown\n",
            "8607    Negative\n",
            "8608     Unknown\n",
            "8609    Positive\n",
            "8610    Negative\n",
            "Name: LBXHBS, Length: 8611, dtype: object\n"
          ]
        }
      ]
    },
    {
      "cell_type": "code",
      "source": [
        "# Recoding the key variables--Weak/Failing Kidneys\n",
        "\n",
        "nephro_uro['KIQ022'] = nephro_uro['KIQ022'].replace({1: 'Yes', 2: 'No', 'Missing': 'Unknown'}).fillna('Unknown')\n",
        "print(nephro_uro['KIQ022'])"
      ],
      "metadata": {
        "colab": {
          "base_uri": "https://localhost:8080/"
        },
        "collapsed": true,
        "id": "SWLZnVeS7Fio",
        "outputId": "17e1a171-c772-4ca7-be57-3ff000567f9d"
      },
      "execution_count": 90,
      "outputs": [
        {
          "output_type": "stream",
          "name": "stdout",
          "text": [
            "0        No\n",
            "1        No\n",
            "2        No\n",
            "3        No\n",
            "4        No\n",
            "       ... \n",
            "7804     No\n",
            "7805     No\n",
            "7806     No\n",
            "7807     No\n",
            "7808    Yes\n",
            "Name: KIQ022, Length: 7809, dtype: object\n"
          ]
        }
      ]
    },
    {
      "cell_type": "markdown",
      "source": [
        "#### 5.2 Cleaned the data file (key variables) prior to performing the analysis as instructed."
      ],
      "metadata": {
        "id": "y1g59r4EcTHe"
      }
    },
    {
      "cell_type": "code",
      "source": [
        "# Data cleaning - Marital Status\n",
        "\n",
        "marital_status = demographics[['SEQN', 'DMDMARTZ']]\n",
        "marital_status['SEQN'] = marital_status['SEQN'].astype(str)\n",
        "marital_status['DMDMARTZ'] = marital_status['DMDMARTZ'].astype(str)\n",
        "marital_status.dtypes\n",
        "\n",
        "print(marital_status)"
      ],
      "metadata": {
        "colab": {
          "base_uri": "https://localhost:8080/"
        },
        "collapsed": true,
        "id": "jz-yJZI9P7qF",
        "outputId": "35831f92-5b5b-4d7e-a547-dcfafa3a9c75"
      },
      "execution_count": 91,
      "outputs": [
        {
          "output_type": "stream",
          "name": "stdout",
          "text": [
            "           SEQN     DMDMARTZ\n",
            "0      130378.0      Married\n",
            "1      130379.0      Married\n",
            "2      130380.0      Married\n",
            "3      130381.0      Unknown\n",
            "4      130382.0      Unknown\n",
            "...         ...          ...\n",
            "11928  142306.0      Unknown\n",
            "11929  142307.0  Not Married\n",
            "11930  142308.0      Married\n",
            "11931  142309.0  Not Married\n",
            "11932  142310.0      Married\n",
            "\n",
            "[11933 rows x 2 columns]\n"
          ]
        },
        {
          "output_type": "stream",
          "name": "stderr",
          "text": [
            "<ipython-input-91-89b4d82aa22d>:4: SettingWithCopyWarning: \n",
            "A value is trying to be set on a copy of a slice from a DataFrame.\n",
            "Try using .loc[row_indexer,col_indexer] = value instead\n",
            "\n",
            "See the caveats in the documentation: https://pandas.pydata.org/pandas-docs/stable/user_guide/indexing.html#returning-a-view-versus-a-copy\n",
            "  marital_status['SEQN'] = marital_status['SEQN'].astype(str)\n",
            "<ipython-input-91-89b4d82aa22d>:5: SettingWithCopyWarning: \n",
            "A value is trying to be set on a copy of a slice from a DataFrame.\n",
            "Try using .loc[row_indexer,col_indexer] = value instead\n",
            "\n",
            "See the caveats in the documentation: https://pandas.pydata.org/pandas-docs/stable/user_guide/indexing.html#returning-a-view-versus-a-copy\n",
            "  marital_status['DMDMARTZ'] = marital_status['DMDMARTZ'].astype(str)\n"
          ]
        }
      ]
    },
    {
      "cell_type": "code",
      "source": [
        "# Data cleaning - Education Level\n",
        "\n",
        "educ = demographics[['SEQN', 'DMDEDUC2']]\n",
        "educ['SEQN'] = educ['SEQN'].astype(str)\n",
        "educ['DMDEDUC2'] = educ['DMDEDUC2'].astype(str)\n",
        "educ.dtypes\n",
        "\n",
        "print(educ)"
      ],
      "metadata": {
        "colab": {
          "base_uri": "https://localhost:8080/"
        },
        "collapsed": true,
        "id": "Mbf9r7Izl-7R",
        "outputId": "48d5fe5b-d7dc-4203-ea77-36d081f82505"
      },
      "execution_count": 92,
      "outputs": [
        {
          "output_type": "stream",
          "name": "stdout",
          "text": [
            "           SEQN                                     DMDEDUC2\n",
            "0      130378.0      College Graduate or Bachelors or Higher\n",
            "1      130379.0      College Graduate or Bachelors or Higher\n",
            "2      130380.0  High School Graduate or Less than Bachelors\n",
            "3      130381.0                                      Unknown\n",
            "4      130382.0                                      Unknown\n",
            "...         ...                                          ...\n",
            "11928  142306.0                                      Unknown\n",
            "11929  142307.0      College Graduate or Bachelors or Higher\n",
            "11930  142308.0          Some College or Less than Bachelors\n",
            "11931  142309.0          Some College or Less than Bachelors\n",
            "11932  142310.0  High School Graduate or Less than Bachelors\n",
            "\n",
            "[11933 rows x 2 columns]\n"
          ]
        },
        {
          "output_type": "stream",
          "name": "stderr",
          "text": [
            "<ipython-input-92-8acdb2134c99>:4: SettingWithCopyWarning: \n",
            "A value is trying to be set on a copy of a slice from a DataFrame.\n",
            "Try using .loc[row_indexer,col_indexer] = value instead\n",
            "\n",
            "See the caveats in the documentation: https://pandas.pydata.org/pandas-docs/stable/user_guide/indexing.html#returning-a-view-versus-a-copy\n",
            "  educ['SEQN'] = educ['SEQN'].astype(str)\n",
            "<ipython-input-92-8acdb2134c99>:5: SettingWithCopyWarning: \n",
            "A value is trying to be set on a copy of a slice from a DataFrame.\n",
            "Try using .loc[row_indexer,col_indexer] = value instead\n",
            "\n",
            "See the caveats in the documentation: https://pandas.pydata.org/pandas-docs/stable/user_guide/indexing.html#returning-a-view-versus-a-copy\n",
            "  educ['DMDEDUC2'] = educ['DMDEDUC2'].astype(str)\n"
          ]
        }
      ]
    },
    {
      "cell_type": "code",
      "source": [
        "# Data cleaning - Age in Years\n",
        "\n",
        "age_years = demographics[['SEQN', 'RIDAGEYR']]\n",
        "age_years['SEQN'] = age_years['SEQN'].astype(str)\n",
        "age_years['RIDAGEYR'] = age_years['RIDAGEYR'].astype(str)\n",
        "age_years.dtypes\n",
        "\n",
        "print(age_years)"
      ],
      "metadata": {
        "colab": {
          "base_uri": "https://localhost:8080/"
        },
        "collapsed": true,
        "id": "RD9jeG7_0F51",
        "outputId": "b73004bd-28b1-4f2a-af81-19086406c797"
      },
      "execution_count": 93,
      "outputs": [
        {
          "output_type": "stream",
          "name": "stdout",
          "text": [
            "           SEQN RIDAGEYR\n",
            "0      130378.0     43.0\n",
            "1      130379.0     66.0\n",
            "2      130380.0     44.0\n",
            "3      130381.0      5.0\n",
            "4      130382.0      2.0\n",
            "...         ...      ...\n",
            "11928  142306.0      9.0\n",
            "11929  142307.0     49.0\n",
            "11930  142308.0     50.0\n",
            "11931  142309.0     40.0\n",
            "11932  142310.0     80.0\n",
            "\n",
            "[11933 rows x 2 columns]\n"
          ]
        },
        {
          "output_type": "stream",
          "name": "stderr",
          "text": [
            "<ipython-input-93-71037e29a21e>:4: SettingWithCopyWarning: \n",
            "A value is trying to be set on a copy of a slice from a DataFrame.\n",
            "Try using .loc[row_indexer,col_indexer] = value instead\n",
            "\n",
            "See the caveats in the documentation: https://pandas.pydata.org/pandas-docs/stable/user_guide/indexing.html#returning-a-view-versus-a-copy\n",
            "  age_years['SEQN'] = age_years['SEQN'].astype(str)\n",
            "<ipython-input-93-71037e29a21e>:5: SettingWithCopyWarning: \n",
            "A value is trying to be set on a copy of a slice from a DataFrame.\n",
            "Try using .loc[row_indexer,col_indexer] = value instead\n",
            "\n",
            "See the caveats in the documentation: https://pandas.pydata.org/pandas-docs/stable/user_guide/indexing.html#returning-a-view-versus-a-copy\n",
            "  age_years['RIDAGEYR'] = age_years['RIDAGEYR'].astype(str)\n"
          ]
        }
      ]
    },
    {
      "cell_type": "code",
      "source": [
        "# Data cleaning - Systolic Blood Pressure (SBP)\n",
        "\n",
        "sbp = bp[['SEQN', 'BPXOSY3']]\n",
        "sbp['SEQN'] = sbp['SEQN'].astype(str)\n",
        "sbp['BPXOSY3'] = sbp['BPXOSY3'].astype(str)\n",
        "sbp.dtypes\n",
        "\n",
        "print(sbp)\n"
      ],
      "metadata": {
        "colab": {
          "base_uri": "https://localhost:8080/"
        },
        "collapsed": true,
        "id": "1vQJEcT00u6z",
        "outputId": "112b85e7-4293-4ae4-cffa-11e51c9a174d"
      },
      "execution_count": 94,
      "outputs": [
        {
          "output_type": "stream",
          "name": "stdout",
          "text": [
            "          SEQN BPXOSY3\n",
            "0     130378.0   132.0\n",
            "1     130379.0   113.0\n",
            "2     130380.0   104.0\n",
            "3     130386.0   115.0\n",
            "4     130387.0   145.0\n",
            "...        ...     ...\n",
            "7796  142306.0     nan\n",
            "7797  142307.0   131.0\n",
            "7798  142308.0   112.0\n",
            "7799  142309.0   128.0\n",
            "7800  142310.0   129.0\n",
            "\n",
            "[7801 rows x 2 columns]\n"
          ]
        },
        {
          "output_type": "stream",
          "name": "stderr",
          "text": [
            "<ipython-input-94-9ffc03fb21eb>:4: SettingWithCopyWarning: \n",
            "A value is trying to be set on a copy of a slice from a DataFrame.\n",
            "Try using .loc[row_indexer,col_indexer] = value instead\n",
            "\n",
            "See the caveats in the documentation: https://pandas.pydata.org/pandas-docs/stable/user_guide/indexing.html#returning-a-view-versus-a-copy\n",
            "  sbp['SEQN'] = sbp['SEQN'].astype(str)\n",
            "<ipython-input-94-9ffc03fb21eb>:5: SettingWithCopyWarning: \n",
            "A value is trying to be set on a copy of a slice from a DataFrame.\n",
            "Try using .loc[row_indexer,col_indexer] = value instead\n",
            "\n",
            "See the caveats in the documentation: https://pandas.pydata.org/pandas-docs/stable/user_guide/indexing.html#returning-a-view-versus-a-copy\n",
            "  sbp['BPXOSY3'] = sbp['BPXOSY3'].astype(str)\n"
          ]
        }
      ]
    },
    {
      "cell_type": "code",
      "source": [
        "# Data cleaning - Diastolic Blood Pressure (DBP)\n",
        "\n",
        "dbp = bp[['SEQN', 'BPXODI3']]\n",
        "dbp['SEQN'] = dbp['SEQN'].astype(str)\n",
        "dbp['BPXODI3'] = dbp['BPXODI3'].astype(str)\n",
        "dbp.dtypes\n",
        "\n",
        "print(sbp)"
      ],
      "metadata": {
        "colab": {
          "base_uri": "https://localhost:8080/"
        },
        "collapsed": true,
        "id": "PZBPyCXc2DEq",
        "outputId": "b154e1a2-8375-4dd5-a9b4-22100334cca8"
      },
      "execution_count": 95,
      "outputs": [
        {
          "output_type": "stream",
          "name": "stdout",
          "text": [
            "          SEQN BPXOSY3\n",
            "0     130378.0   132.0\n",
            "1     130379.0   113.0\n",
            "2     130380.0   104.0\n",
            "3     130386.0   115.0\n",
            "4     130387.0   145.0\n",
            "...        ...     ...\n",
            "7796  142306.0     nan\n",
            "7797  142307.0   131.0\n",
            "7798  142308.0   112.0\n",
            "7799  142309.0   128.0\n",
            "7800  142310.0   129.0\n",
            "\n",
            "[7801 rows x 2 columns]\n"
          ]
        },
        {
          "output_type": "stream",
          "name": "stderr",
          "text": [
            "<ipython-input-95-2be22774ab62>:4: SettingWithCopyWarning: \n",
            "A value is trying to be set on a copy of a slice from a DataFrame.\n",
            "Try using .loc[row_indexer,col_indexer] = value instead\n",
            "\n",
            "See the caveats in the documentation: https://pandas.pydata.org/pandas-docs/stable/user_guide/indexing.html#returning-a-view-versus-a-copy\n",
            "  dbp['SEQN'] = dbp['SEQN'].astype(str)\n",
            "<ipython-input-95-2be22774ab62>:5: SettingWithCopyWarning: \n",
            "A value is trying to be set on a copy of a slice from a DataFrame.\n",
            "Try using .loc[row_indexer,col_indexer] = value instead\n",
            "\n",
            "See the caveats in the documentation: https://pandas.pydata.org/pandas-docs/stable/user_guide/indexing.html#returning-a-view-versus-a-copy\n",
            "  dbp['BPXODI3'] = dbp['BPXODI3'].astype(str)\n"
          ]
        }
      ]
    },
    {
      "cell_type": "code",
      "source": [
        "# Data cleaning - Vitamin D (VitD)\n",
        "\n",
        "vit_d = vit_d[['SEQN', 'LBDVD2LC']]\n",
        "vit_d['SEQN'] = vit_d['SEQN'].astype(str)\n",
        "vit_d['LBDVD2LC'] = vit_d['LBDVD2LC'].astype(str)\n",
        "vit_d.dtypes\n",
        "\n",
        "vit_d"
      ],
      "metadata": {
        "colab": {
          "base_uri": "https://localhost:8080/",
          "height": 631
        },
        "collapsed": true,
        "id": "JD6oUHL22a7h",
        "outputId": "a03610c4-3bcf-4ec4-f59b-8280cd257d96"
      },
      "execution_count": 96,
      "outputs": [
        {
          "output_type": "stream",
          "name": "stderr",
          "text": [
            "<ipython-input-96-afbdc4e35afd>:4: SettingWithCopyWarning: \n",
            "A value is trying to be set on a copy of a slice from a DataFrame.\n",
            "Try using .loc[row_indexer,col_indexer] = value instead\n",
            "\n",
            "See the caveats in the documentation: https://pandas.pydata.org/pandas-docs/stable/user_guide/indexing.html#returning-a-view-versus-a-copy\n",
            "  vit_d['SEQN'] = vit_d['SEQN'].astype(str)\n",
            "<ipython-input-96-afbdc4e35afd>:5: SettingWithCopyWarning: \n",
            "A value is trying to be set on a copy of a slice from a DataFrame.\n",
            "Try using .loc[row_indexer,col_indexer] = value instead\n",
            "\n",
            "See the caveats in the documentation: https://pandas.pydata.org/pandas-docs/stable/user_guide/indexing.html#returning-a-view-versus-a-copy\n",
            "  vit_d['LBDVD2LC'] = vit_d['LBDVD2LC'].astype(str)\n"
          ]
        },
        {
          "output_type": "execute_result",
          "data": {
            "text/plain": [
              "          SEQN LBDVD2LC\n",
              "0     130378.0      1.0\n",
              "1     130379.0      1.0\n",
              "2     130380.0      1.0\n",
              "3     130381.0      nan\n",
              "4     130382.0      nan\n",
              "...        ...      ...\n",
              "8722  142306.0      nan\n",
              "8723  142307.0      1.0\n",
              "8724  142308.0      nan\n",
              "8725  142309.0      1.0\n",
              "8726  142310.0      1.0\n",
              "\n",
              "[8727 rows x 2 columns]"
            ],
            "text/html": [
              "\n",
              "  <div id=\"df-b150b300-85d7-4bb0-a8d3-80c91217759a\" class=\"colab-df-container\">\n",
              "    <div>\n",
              "<style scoped>\n",
              "    .dataframe tbody tr th:only-of-type {\n",
              "        vertical-align: middle;\n",
              "    }\n",
              "\n",
              "    .dataframe tbody tr th {\n",
              "        vertical-align: top;\n",
              "    }\n",
              "\n",
              "    .dataframe thead th {\n",
              "        text-align: right;\n",
              "    }\n",
              "</style>\n",
              "<table border=\"1\" class=\"dataframe\">\n",
              "  <thead>\n",
              "    <tr style=\"text-align: right;\">\n",
              "      <th></th>\n",
              "      <th>SEQN</th>\n",
              "      <th>LBDVD2LC</th>\n",
              "    </tr>\n",
              "  </thead>\n",
              "  <tbody>\n",
              "    <tr>\n",
              "      <th>0</th>\n",
              "      <td>130378.0</td>\n",
              "      <td>1.0</td>\n",
              "    </tr>\n",
              "    <tr>\n",
              "      <th>1</th>\n",
              "      <td>130379.0</td>\n",
              "      <td>1.0</td>\n",
              "    </tr>\n",
              "    <tr>\n",
              "      <th>2</th>\n",
              "      <td>130380.0</td>\n",
              "      <td>1.0</td>\n",
              "    </tr>\n",
              "    <tr>\n",
              "      <th>3</th>\n",
              "      <td>130381.0</td>\n",
              "      <td>nan</td>\n",
              "    </tr>\n",
              "    <tr>\n",
              "      <th>4</th>\n",
              "      <td>130382.0</td>\n",
              "      <td>nan</td>\n",
              "    </tr>\n",
              "    <tr>\n",
              "      <th>...</th>\n",
              "      <td>...</td>\n",
              "      <td>...</td>\n",
              "    </tr>\n",
              "    <tr>\n",
              "      <th>8722</th>\n",
              "      <td>142306.0</td>\n",
              "      <td>nan</td>\n",
              "    </tr>\n",
              "    <tr>\n",
              "      <th>8723</th>\n",
              "      <td>142307.0</td>\n",
              "      <td>1.0</td>\n",
              "    </tr>\n",
              "    <tr>\n",
              "      <th>8724</th>\n",
              "      <td>142308.0</td>\n",
              "      <td>nan</td>\n",
              "    </tr>\n",
              "    <tr>\n",
              "      <th>8725</th>\n",
              "      <td>142309.0</td>\n",
              "      <td>1.0</td>\n",
              "    </tr>\n",
              "    <tr>\n",
              "      <th>8726</th>\n",
              "      <td>142310.0</td>\n",
              "      <td>1.0</td>\n",
              "    </tr>\n",
              "  </tbody>\n",
              "</table>\n",
              "<p>8727 rows × 2 columns</p>\n",
              "</div>\n",
              "    <div class=\"colab-df-buttons\">\n",
              "\n",
              "  <div class=\"colab-df-container\">\n",
              "    <button class=\"colab-df-convert\" onclick=\"convertToInteractive('df-b150b300-85d7-4bb0-a8d3-80c91217759a')\"\n",
              "            title=\"Convert this dataframe to an interactive table.\"\n",
              "            style=\"display:none;\">\n",
              "\n",
              "  <svg xmlns=\"http://www.w3.org/2000/svg\" height=\"24px\" viewBox=\"0 -960 960 960\">\n",
              "    <path d=\"M120-120v-720h720v720H120Zm60-500h600v-160H180v160Zm220 220h160v-160H400v160Zm0 220h160v-160H400v160ZM180-400h160v-160H180v160Zm440 0h160v-160H620v160ZM180-180h160v-160H180v160Zm440 0h160v-160H620v160Z\"/>\n",
              "  </svg>\n",
              "    </button>\n",
              "\n",
              "  <style>\n",
              "    .colab-df-container {\n",
              "      display:flex;\n",
              "      gap: 12px;\n",
              "    }\n",
              "\n",
              "    .colab-df-convert {\n",
              "      background-color: #E8F0FE;\n",
              "      border: none;\n",
              "      border-radius: 50%;\n",
              "      cursor: pointer;\n",
              "      display: none;\n",
              "      fill: #1967D2;\n",
              "      height: 32px;\n",
              "      padding: 0 0 0 0;\n",
              "      width: 32px;\n",
              "    }\n",
              "\n",
              "    .colab-df-convert:hover {\n",
              "      background-color: #E2EBFA;\n",
              "      box-shadow: 0px 1px 2px rgba(60, 64, 67, 0.3), 0px 1px 3px 1px rgba(60, 64, 67, 0.15);\n",
              "      fill: #174EA6;\n",
              "    }\n",
              "\n",
              "    .colab-df-buttons div {\n",
              "      margin-bottom: 4px;\n",
              "    }\n",
              "\n",
              "    [theme=dark] .colab-df-convert {\n",
              "      background-color: #3B4455;\n",
              "      fill: #D2E3FC;\n",
              "    }\n",
              "\n",
              "    [theme=dark] .colab-df-convert:hover {\n",
              "      background-color: #434B5C;\n",
              "      box-shadow: 0px 1px 3px 1px rgba(0, 0, 0, 0.15);\n",
              "      filter: drop-shadow(0px 1px 2px rgba(0, 0, 0, 0.3));\n",
              "      fill: #FFFFFF;\n",
              "    }\n",
              "  </style>\n",
              "\n",
              "    <script>\n",
              "      const buttonEl =\n",
              "        document.querySelector('#df-b150b300-85d7-4bb0-a8d3-80c91217759a button.colab-df-convert');\n",
              "      buttonEl.style.display =\n",
              "        google.colab.kernel.accessAllowed ? 'block' : 'none';\n",
              "\n",
              "      async function convertToInteractive(key) {\n",
              "        const element = document.querySelector('#df-b150b300-85d7-4bb0-a8d3-80c91217759a');\n",
              "        const dataTable =\n",
              "          await google.colab.kernel.invokeFunction('convertToInteractive',\n",
              "                                                    [key], {});\n",
              "        if (!dataTable) return;\n",
              "\n",
              "        const docLinkHtml = 'Like what you see? Visit the ' +\n",
              "          '<a target=\"_blank\" href=https://colab.research.google.com/notebooks/data_table.ipynb>data table notebook</a>'\n",
              "          + ' to learn more about interactive tables.';\n",
              "        element.innerHTML = '';\n",
              "        dataTable['output_type'] = 'display_data';\n",
              "        await google.colab.output.renderOutput(dataTable, element);\n",
              "        const docLink = document.createElement('div');\n",
              "        docLink.innerHTML = docLinkHtml;\n",
              "        element.appendChild(docLink);\n",
              "      }\n",
              "    </script>\n",
              "  </div>\n",
              "\n",
              "\n",
              "<div id=\"df-f4528183-0afd-4ed2-9b99-75d67db383a4\">\n",
              "  <button class=\"colab-df-quickchart\" onclick=\"quickchart('df-f4528183-0afd-4ed2-9b99-75d67db383a4')\"\n",
              "            title=\"Suggest charts\"\n",
              "            style=\"display:none;\">\n",
              "\n",
              "<svg xmlns=\"http://www.w3.org/2000/svg\" height=\"24px\"viewBox=\"0 0 24 24\"\n",
              "     width=\"24px\">\n",
              "    <g>\n",
              "        <path d=\"M19 3H5c-1.1 0-2 .9-2 2v14c0 1.1.9 2 2 2h14c1.1 0 2-.9 2-2V5c0-1.1-.9-2-2-2zM9 17H7v-7h2v7zm4 0h-2V7h2v10zm4 0h-2v-4h2v4z\"/>\n",
              "    </g>\n",
              "</svg>\n",
              "  </button>\n",
              "\n",
              "<style>\n",
              "  .colab-df-quickchart {\n",
              "      --bg-color: #E8F0FE;\n",
              "      --fill-color: #1967D2;\n",
              "      --hover-bg-color: #E2EBFA;\n",
              "      --hover-fill-color: #174EA6;\n",
              "      --disabled-fill-color: #AAA;\n",
              "      --disabled-bg-color: #DDD;\n",
              "  }\n",
              "\n",
              "  [theme=dark] .colab-df-quickchart {\n",
              "      --bg-color: #3B4455;\n",
              "      --fill-color: #D2E3FC;\n",
              "      --hover-bg-color: #434B5C;\n",
              "      --hover-fill-color: #FFFFFF;\n",
              "      --disabled-bg-color: #3B4455;\n",
              "      --disabled-fill-color: #666;\n",
              "  }\n",
              "\n",
              "  .colab-df-quickchart {\n",
              "    background-color: var(--bg-color);\n",
              "    border: none;\n",
              "    border-radius: 50%;\n",
              "    cursor: pointer;\n",
              "    display: none;\n",
              "    fill: var(--fill-color);\n",
              "    height: 32px;\n",
              "    padding: 0;\n",
              "    width: 32px;\n",
              "  }\n",
              "\n",
              "  .colab-df-quickchart:hover {\n",
              "    background-color: var(--hover-bg-color);\n",
              "    box-shadow: 0 1px 2px rgba(60, 64, 67, 0.3), 0 1px 3px 1px rgba(60, 64, 67, 0.15);\n",
              "    fill: var(--button-hover-fill-color);\n",
              "  }\n",
              "\n",
              "  .colab-df-quickchart-complete:disabled,\n",
              "  .colab-df-quickchart-complete:disabled:hover {\n",
              "    background-color: var(--disabled-bg-color);\n",
              "    fill: var(--disabled-fill-color);\n",
              "    box-shadow: none;\n",
              "  }\n",
              "\n",
              "  .colab-df-spinner {\n",
              "    border: 2px solid var(--fill-color);\n",
              "    border-color: transparent;\n",
              "    border-bottom-color: var(--fill-color);\n",
              "    animation:\n",
              "      spin 1s steps(1) infinite;\n",
              "  }\n",
              "\n",
              "  @keyframes spin {\n",
              "    0% {\n",
              "      border-color: transparent;\n",
              "      border-bottom-color: var(--fill-color);\n",
              "      border-left-color: var(--fill-color);\n",
              "    }\n",
              "    20% {\n",
              "      border-color: transparent;\n",
              "      border-left-color: var(--fill-color);\n",
              "      border-top-color: var(--fill-color);\n",
              "    }\n",
              "    30% {\n",
              "      border-color: transparent;\n",
              "      border-left-color: var(--fill-color);\n",
              "      border-top-color: var(--fill-color);\n",
              "      border-right-color: var(--fill-color);\n",
              "    }\n",
              "    40% {\n",
              "      border-color: transparent;\n",
              "      border-right-color: var(--fill-color);\n",
              "      border-top-color: var(--fill-color);\n",
              "    }\n",
              "    60% {\n",
              "      border-color: transparent;\n",
              "      border-right-color: var(--fill-color);\n",
              "    }\n",
              "    80% {\n",
              "      border-color: transparent;\n",
              "      border-right-color: var(--fill-color);\n",
              "      border-bottom-color: var(--fill-color);\n",
              "    }\n",
              "    90% {\n",
              "      border-color: transparent;\n",
              "      border-bottom-color: var(--fill-color);\n",
              "    }\n",
              "  }\n",
              "</style>\n",
              "\n",
              "  <script>\n",
              "    async function quickchart(key) {\n",
              "      const quickchartButtonEl =\n",
              "        document.querySelector('#' + key + ' button');\n",
              "      quickchartButtonEl.disabled = true;  // To prevent multiple clicks.\n",
              "      quickchartButtonEl.classList.add('colab-df-spinner');\n",
              "      try {\n",
              "        const charts = await google.colab.kernel.invokeFunction(\n",
              "            'suggestCharts', [key], {});\n",
              "      } catch (error) {\n",
              "        console.error('Error during call to suggestCharts:', error);\n",
              "      }\n",
              "      quickchartButtonEl.classList.remove('colab-df-spinner');\n",
              "      quickchartButtonEl.classList.add('colab-df-quickchart-complete');\n",
              "    }\n",
              "    (() => {\n",
              "      let quickchartButtonEl =\n",
              "        document.querySelector('#df-f4528183-0afd-4ed2-9b99-75d67db383a4 button');\n",
              "      quickchartButtonEl.style.display =\n",
              "        google.colab.kernel.accessAllowed ? 'block' : 'none';\n",
              "    })();\n",
              "  </script>\n",
              "</div>\n",
              "\n",
              "  <div id=\"id_b451cb0f-5b25-4a74-9e0d-ac82dbfddd8e\">\n",
              "    <style>\n",
              "      .colab-df-generate {\n",
              "        background-color: #E8F0FE;\n",
              "        border: none;\n",
              "        border-radius: 50%;\n",
              "        cursor: pointer;\n",
              "        display: none;\n",
              "        fill: #1967D2;\n",
              "        height: 32px;\n",
              "        padding: 0 0 0 0;\n",
              "        width: 32px;\n",
              "      }\n",
              "\n",
              "      .colab-df-generate:hover {\n",
              "        background-color: #E2EBFA;\n",
              "        box-shadow: 0px 1px 2px rgba(60, 64, 67, 0.3), 0px 1px 3px 1px rgba(60, 64, 67, 0.15);\n",
              "        fill: #174EA6;\n",
              "      }\n",
              "\n",
              "      [theme=dark] .colab-df-generate {\n",
              "        background-color: #3B4455;\n",
              "        fill: #D2E3FC;\n",
              "      }\n",
              "\n",
              "      [theme=dark] .colab-df-generate:hover {\n",
              "        background-color: #434B5C;\n",
              "        box-shadow: 0px 1px 3px 1px rgba(0, 0, 0, 0.15);\n",
              "        filter: drop-shadow(0px 1px 2px rgba(0, 0, 0, 0.3));\n",
              "        fill: #FFFFFF;\n",
              "      }\n",
              "    </style>\n",
              "    <button class=\"colab-df-generate\" onclick=\"generateWithVariable('vit_d')\"\n",
              "            title=\"Generate code using this dataframe.\"\n",
              "            style=\"display:none;\">\n",
              "\n",
              "  <svg xmlns=\"http://www.w3.org/2000/svg\" height=\"24px\"viewBox=\"0 0 24 24\"\n",
              "       width=\"24px\">\n",
              "    <path d=\"M7,19H8.4L18.45,9,17,7.55,7,17.6ZM5,21V16.75L18.45,3.32a2,2,0,0,1,2.83,0l1.4,1.43a1.91,1.91,0,0,1,.58,1.4,1.91,1.91,0,0,1-.58,1.4L9.25,21ZM18.45,9,17,7.55Zm-12,3A5.31,5.31,0,0,0,4.9,8.1,5.31,5.31,0,0,0,1,6.5,5.31,5.31,0,0,0,4.9,4.9,5.31,5.31,0,0,0,6.5,1,5.31,5.31,0,0,0,8.1,4.9,5.31,5.31,0,0,0,12,6.5,5.46,5.46,0,0,0,6.5,12Z\"/>\n",
              "  </svg>\n",
              "    </button>\n",
              "    <script>\n",
              "      (() => {\n",
              "      const buttonEl =\n",
              "        document.querySelector('#id_b451cb0f-5b25-4a74-9e0d-ac82dbfddd8e button.colab-df-generate');\n",
              "      buttonEl.style.display =\n",
              "        google.colab.kernel.accessAllowed ? 'block' : 'none';\n",
              "\n",
              "      buttonEl.onclick = () => {\n",
              "        google.colab.notebook.generateWithVariable('vit_d');\n",
              "      }\n",
              "      })();\n",
              "    </script>\n",
              "  </div>\n",
              "\n",
              "    </div>\n",
              "  </div>\n"
            ],
            "application/vnd.google.colaboratory.intrinsic+json": {
              "type": "dataframe",
              "variable_name": "vit_d",
              "summary": "{\n  \"name\": \"vit_d\",\n  \"rows\": 8727,\n  \"fields\": [\n    {\n      \"column\": \"SEQN\",\n      \"properties\": {\n        \"dtype\": \"string\",\n        \"num_unique_values\": 8727,\n        \"samples\": [\n          \"131799.0\",\n          \"141894.0\",\n          \"135874.0\"\n        ],\n        \"semantic_type\": \"\",\n        \"description\": \"\"\n      }\n    },\n    {\n      \"column\": \"LBDVD2LC\",\n      \"properties\": {\n        \"dtype\": \"category\",\n        \"num_unique_values\": 3,\n        \"samples\": [\n          \"1.0\",\n          \"nan\",\n          \"5.397605346934028e-79\"\n        ],\n        \"semantic_type\": \"\",\n        \"description\": \"\"\n      }\n    }\n  ]\n}"
            }
          },
          "metadata": {},
          "execution_count": 96
        }
      ]
    },
    {
      "cell_type": "markdown",
      "source": [
        "#### 5.3 Cleaning the necessary key variables. **Removing 7777, 9999, and Null values** as instructed."
      ],
      "metadata": {
        "id": "Ub_exWkwF6k7"
      }
    },
    {
      "cell_type": "code",
      "source": [
        "# Data Cleaning - Mins Sedentary Activity (To Remove 7777, 9999, and Null)\n",
        "\n",
        "p_activity = p_activity[~p_activity['PAD680'].isin([7777, 9999, pd.NA])] # this will select rows where the values 7777, 9999, and null are not present. (pd.NA ➝ handles null values)\n",
        "p_activity['PAD680']\n"
      ],
      "metadata": {
        "colab": {
          "base_uri": "https://localhost:8080/",
          "height": 458
        },
        "collapsed": true,
        "id": "DH7OL8UGB2C4",
        "outputId": "71240cd6-787b-4e37-f42f-05985893fc50"
      },
      "execution_count": 97,
      "outputs": [
        {
          "output_type": "execute_result",
          "data": {
            "text/plain": [
              "0       360.0\n",
              "1       480.0\n",
              "2       240.0\n",
              "3        60.0\n",
              "4       180.0\n",
              "        ...  \n",
              "8148    480.0\n",
              "8149    480.0\n",
              "8150    600.0\n",
              "8151    240.0\n",
              "8152    360.0\n",
              "Name: PAD680, Length: 8080, dtype: float64"
            ],
            "text/html": [
              "<div>\n",
              "<style scoped>\n",
              "    .dataframe tbody tr th:only-of-type {\n",
              "        vertical-align: middle;\n",
              "    }\n",
              "\n",
              "    .dataframe tbody tr th {\n",
              "        vertical-align: top;\n",
              "    }\n",
              "\n",
              "    .dataframe thead th {\n",
              "        text-align: right;\n",
              "    }\n",
              "</style>\n",
              "<table border=\"1\" class=\"dataframe\">\n",
              "  <thead>\n",
              "    <tr style=\"text-align: right;\">\n",
              "      <th></th>\n",
              "      <th>PAD680</th>\n",
              "    </tr>\n",
              "  </thead>\n",
              "  <tbody>\n",
              "    <tr>\n",
              "      <th>0</th>\n",
              "      <td>360.0</td>\n",
              "    </tr>\n",
              "    <tr>\n",
              "      <th>1</th>\n",
              "      <td>480.0</td>\n",
              "    </tr>\n",
              "    <tr>\n",
              "      <th>2</th>\n",
              "      <td>240.0</td>\n",
              "    </tr>\n",
              "    <tr>\n",
              "      <th>3</th>\n",
              "      <td>60.0</td>\n",
              "    </tr>\n",
              "    <tr>\n",
              "      <th>4</th>\n",
              "      <td>180.0</td>\n",
              "    </tr>\n",
              "    <tr>\n",
              "      <th>...</th>\n",
              "      <td>...</td>\n",
              "    </tr>\n",
              "    <tr>\n",
              "      <th>8148</th>\n",
              "      <td>480.0</td>\n",
              "    </tr>\n",
              "    <tr>\n",
              "      <th>8149</th>\n",
              "      <td>480.0</td>\n",
              "    </tr>\n",
              "    <tr>\n",
              "      <th>8150</th>\n",
              "      <td>600.0</td>\n",
              "    </tr>\n",
              "    <tr>\n",
              "      <th>8151</th>\n",
              "      <td>240.0</td>\n",
              "    </tr>\n",
              "    <tr>\n",
              "      <th>8152</th>\n",
              "      <td>360.0</td>\n",
              "    </tr>\n",
              "  </tbody>\n",
              "</table>\n",
              "<p>8080 rows × 1 columns</p>\n",
              "</div><br><label><b>dtype:</b> float64</label>"
            ]
          },
          "metadata": {},
          "execution_count": 97
        }
      ]
    },
    {
      "cell_type": "code",
      "source": [
        "# Data Cleaning - Self-Reported Weight (To Remove 7777, 9999, and Null)\n",
        "\n",
        "weight = weight[~weight['WHD020'].isin([7777, 9999, pd.NA])] # this will select rows where the values 7777, 9999, and null are not present. (pd.NA ➝ handles null values)\n",
        "weight['WHD020']"
      ],
      "metadata": {
        "colab": {
          "base_uri": "https://localhost:8080/",
          "height": 458
        },
        "collapsed": true,
        "id": "F1cRsWZIDoMi",
        "outputId": "aa0cb450-746e-4f17-ac0f-42d922a21bb0"
      },
      "execution_count": 98,
      "outputs": [
        {
          "output_type": "execute_result",
          "data": {
            "text/plain": [
              "0       190.0\n",
              "1       220.0\n",
              "2       150.0\n",
              "3       204.0\n",
              "4       240.0\n",
              "        ...  \n",
              "8496    137.0\n",
              "8497    206.0\n",
              "8498    174.0\n",
              "8499    200.0\n",
              "8500    157.0\n",
              "Name: WHD020, Length: 8373, dtype: float64"
            ],
            "text/html": [
              "<div>\n",
              "<style scoped>\n",
              "    .dataframe tbody tr th:only-of-type {\n",
              "        vertical-align: middle;\n",
              "    }\n",
              "\n",
              "    .dataframe tbody tr th {\n",
              "        vertical-align: top;\n",
              "    }\n",
              "\n",
              "    .dataframe thead th {\n",
              "        text-align: right;\n",
              "    }\n",
              "</style>\n",
              "<table border=\"1\" class=\"dataframe\">\n",
              "  <thead>\n",
              "    <tr style=\"text-align: right;\">\n",
              "      <th></th>\n",
              "      <th>WHD020</th>\n",
              "    </tr>\n",
              "  </thead>\n",
              "  <tbody>\n",
              "    <tr>\n",
              "      <th>0</th>\n",
              "      <td>190.0</td>\n",
              "    </tr>\n",
              "    <tr>\n",
              "      <th>1</th>\n",
              "      <td>220.0</td>\n",
              "    </tr>\n",
              "    <tr>\n",
              "      <th>2</th>\n",
              "      <td>150.0</td>\n",
              "    </tr>\n",
              "    <tr>\n",
              "      <th>3</th>\n",
              "      <td>204.0</td>\n",
              "    </tr>\n",
              "    <tr>\n",
              "      <th>4</th>\n",
              "      <td>240.0</td>\n",
              "    </tr>\n",
              "    <tr>\n",
              "      <th>...</th>\n",
              "      <td>...</td>\n",
              "    </tr>\n",
              "    <tr>\n",
              "      <th>8496</th>\n",
              "      <td>137.0</td>\n",
              "    </tr>\n",
              "    <tr>\n",
              "      <th>8497</th>\n",
              "      <td>206.0</td>\n",
              "    </tr>\n",
              "    <tr>\n",
              "      <th>8498</th>\n",
              "      <td>174.0</td>\n",
              "    </tr>\n",
              "    <tr>\n",
              "      <th>8499</th>\n",
              "      <td>200.0</td>\n",
              "    </tr>\n",
              "    <tr>\n",
              "      <th>8500</th>\n",
              "      <td>157.0</td>\n",
              "    </tr>\n",
              "  </tbody>\n",
              "</table>\n",
              "<p>8373 rows × 1 columns</p>\n",
              "</div><br><label><b>dtype:</b> float64</label>"
            ]
          },
          "metadata": {},
          "execution_count": 98
        }
      ]
    },
    {
      "cell_type": "code",
      "source": [
        "# Data Cleaning - Education Level (To Remove 7 and 9 values)\n",
        "\n",
        "educ = educ[~educ['DMDEDUC2'].isin(['9'])]\n",
        "educ['DMDEDUC2']"
      ],
      "metadata": {
        "colab": {
          "base_uri": "https://localhost:8080/",
          "height": 458
        },
        "collapsed": true,
        "id": "aJeX2okW8-BB",
        "outputId": "28944f9d-06c0-4771-f3ef-b0f190d3b8fc"
      },
      "execution_count": 99,
      "outputs": [
        {
          "output_type": "execute_result",
          "data": {
            "text/plain": [
              "0            College Graduate or Bachelors or Higher\n",
              "1            College Graduate or Bachelors or Higher\n",
              "2        High School Graduate or Less than Bachelors\n",
              "3                                            Unknown\n",
              "4                                            Unknown\n",
              "                            ...                     \n",
              "11928                                        Unknown\n",
              "11929        College Graduate or Bachelors or Higher\n",
              "11930            Some College or Less than Bachelors\n",
              "11931            Some College or Less than Bachelors\n",
              "11932    High School Graduate or Less than Bachelors\n",
              "Name: DMDEDUC2, Length: 11933, dtype: object"
            ],
            "text/html": [
              "<div>\n",
              "<style scoped>\n",
              "    .dataframe tbody tr th:only-of-type {\n",
              "        vertical-align: middle;\n",
              "    }\n",
              "\n",
              "    .dataframe tbody tr th {\n",
              "        vertical-align: top;\n",
              "    }\n",
              "\n",
              "    .dataframe thead th {\n",
              "        text-align: right;\n",
              "    }\n",
              "</style>\n",
              "<table border=\"1\" class=\"dataframe\">\n",
              "  <thead>\n",
              "    <tr style=\"text-align: right;\">\n",
              "      <th></th>\n",
              "      <th>DMDEDUC2</th>\n",
              "    </tr>\n",
              "  </thead>\n",
              "  <tbody>\n",
              "    <tr>\n",
              "      <th>0</th>\n",
              "      <td>College Graduate or Bachelors or Higher</td>\n",
              "    </tr>\n",
              "    <tr>\n",
              "      <th>1</th>\n",
              "      <td>College Graduate or Bachelors or Higher</td>\n",
              "    </tr>\n",
              "    <tr>\n",
              "      <th>2</th>\n",
              "      <td>High School Graduate or Less than Bachelors</td>\n",
              "    </tr>\n",
              "    <tr>\n",
              "      <th>3</th>\n",
              "      <td>Unknown</td>\n",
              "    </tr>\n",
              "    <tr>\n",
              "      <th>4</th>\n",
              "      <td>Unknown</td>\n",
              "    </tr>\n",
              "    <tr>\n",
              "      <th>...</th>\n",
              "      <td>...</td>\n",
              "    </tr>\n",
              "    <tr>\n",
              "      <th>11928</th>\n",
              "      <td>Unknown</td>\n",
              "    </tr>\n",
              "    <tr>\n",
              "      <th>11929</th>\n",
              "      <td>College Graduate or Bachelors or Higher</td>\n",
              "    </tr>\n",
              "    <tr>\n",
              "      <th>11930</th>\n",
              "      <td>Some College or Less than Bachelors</td>\n",
              "    </tr>\n",
              "    <tr>\n",
              "      <th>11931</th>\n",
              "      <td>Some College or Less than Bachelors</td>\n",
              "    </tr>\n",
              "    <tr>\n",
              "      <th>11932</th>\n",
              "      <td>High School Graduate or Less than Bachelors</td>\n",
              "    </tr>\n",
              "  </tbody>\n",
              "</table>\n",
              "<p>11933 rows × 1 columns</p>\n",
              "</div><br><label><b>dtype:</b> object</label>"
            ]
          },
          "metadata": {},
          "execution_count": 99
        }
      ]
    },
    {
      "cell_type": "markdown",
      "source": [
        "## ✔︎ _**The Inferential Analysis**_\n",
        "\n",
        "### Below are the 5 research questions that need to be answered, along with the process taken to accomplish the analysis."
      ],
      "metadata": {
        "id": "j59kBqEaS7-R"
      }
    },
    {
      "cell_type": "markdown",
      "source": [
        "## **Question 1**\n",
        "\n",
        "### `Is there an association between marital status (married or not married) and education level (bachelor’s degree or higher vs. less than a bachelor’s degree)?`\n",
        "\n",
        "*   `DMDMARTZ` (marital status) - categorical\n",
        "*   `DMDEDUC2` (education level) - categorical\n",
        "*   Type of Statistical Test used: **`Chi-Square`** (analyzes the relationship between two categorical key variables)\n",
        "\n",
        "\n",
        "\n",
        "\n",
        "\n",
        "\n",
        "\n",
        "\n",
        "\n",
        "\n",
        "\n"
      ],
      "metadata": {
        "id": "3yBDgIwDUdnC"
      }
    },
    {
      "cell_type": "markdown",
      "source": [
        "###  **Answer:**\n",
        "\n",
        "#### There is a **significant** association between marital status and education level."
      ],
      "metadata": {
        "id": "lMS21I3oyVrJ"
      }
    },
    {
      "cell_type": "markdown",
      "source": [
        "## **Analysis:**"
      ],
      "metadata": {
        "id": "UyJN7GTccwMz"
      }
    },
    {
      "cell_type": "code",
      "source": [
        "# Import additional package to help analyze the necessary data\n",
        "\n",
        "from scipy.stats import chi2_contingency\n",
        "import matplotlib.pyplot as plt\n",
        "import seaborn as sns\n",
        "import numpy as np\n",
        "\n",
        "\n",
        "# Create a contingency table\n",
        "\n",
        "contingency_table = pd.crosstab(demographics['DMDMARTZ'], demographics['DMDEDUC2'])\n",
        "print(\"Contingency Table:\")\n",
        "print(contingency_table)\n",
        "\n",
        "# Perform Chi-Square test\n",
        "\n",
        "stat, p_value, dof, expected = chi2_contingency(contingency_table)\n",
        "print(f\"Chi-Square Test Statistic: {stat}, p-value: {p_value}\")\n",
        "print(\"Expected Frequencies:\")\n",
        "print(expected)\n",
        "\n",
        "# Interpretation\n",
        "\n",
        "if p_value > 0.05:\n",
        "    print(\"\\nThere is no significant association between marital status and education level.\")\n",
        "else:\n",
        "    print(\"\\nThere is a significant association between marital status and education level.\")\n",
        "\n"
      ],
      "metadata": {
        "colab": {
          "base_uri": "https://localhost:8080/"
        },
        "collapsed": true,
        "id": "EdMKGCdxTlF9",
        "outputId": "a575a1ee-0b46-4ad2-f1ba-61092d547212"
      },
      "execution_count": 100,
      "outputs": [
        {
          "output_type": "stream",
          "name": "stdout",
          "text": [
            "Contingency Table:\n",
            "DMDEDUC2     9.0  College Graduate or Bachelors or Higher  \\\n",
            "DMDMARTZ                                                    \n",
            "77.0           0                                        2   \n",
            "99.0           0                                        2   \n",
            "Married        2                                     1631   \n",
            "Not Married    9                                      990   \n",
            "Unknown        0                                        0   \n",
            "\n",
            "DMDEDUC2     High School Graduate or Less than Bachelors  \\\n",
            "DMDMARTZ                                                   \n",
            "77.0                                                   1   \n",
            "99.0                                                   0   \n",
            "Married                                              842   \n",
            "Not Married                                          905   \n",
            "Unknown                                                1   \n",
            "\n",
            "DMDEDUC2     Less than Highschool or Less than Bachelors  \\\n",
            "DMDMARTZ                                                   \n",
            "77.0                                                   0   \n",
            "99.0                                                   3   \n",
            "Married                                              510   \n",
            "Not Married                                          526   \n",
            "Unknown                                                0   \n",
            "\n",
            "DMDEDUC2     Some College or Less than Bachelors  Unknown  \n",
            "DMDMARTZ                                                   \n",
            "77.0                                           1        0  \n",
            "99.0                                           0        0  \n",
            "Married                                     1151        0  \n",
            "Not Married                                 1217        0  \n",
            "Unknown                                        1     4139  \n",
            "Chi-Square Test Statistic: 12149.516708049196, p-value: 0.0\n",
            "Expected Frequencies:\n",
            "[[3.68725383e-03 8.79912847e-01 5.86273360e-01 3.48277885e-01\n",
            "  7.94435599e-01 1.38741306e+00]\n",
            " [4.60906729e-03 1.09989106e+00 7.32841699e-01 4.35347356e-01\n",
            "  9.93044498e-01 1.73426632e+00]\n",
            " [3.81262046e+00 9.09829884e+02 6.06206654e+02 3.60119333e+02\n",
            "  8.21446409e+02 1.43458510e+03]\n",
            " [3.36185368e+00 8.02260538e+02 5.34534736e+02 3.17542362e+02\n",
            "  7.24326657e+02 1.26497385e+03]\n",
            " [3.81722953e+00 9.10929775e+02 6.06939496e+02 3.60554680e+02\n",
            "  8.22439454e+02 1.43631937e+03]]\n",
            "\n",
            "There is a significant association between marital status and education level.\n"
          ]
        }
      ]
    },
    {
      "cell_type": "code",
      "source": [
        "# Data capture - Marital Status\n",
        "\n",
        "marital_status = demographics[['SEQN', 'DMDMARTZ']]\n",
        "marital_status['SEQN'] = marital_status['SEQN'].astype(str)\n",
        "marital_status['DMDMARTZ'] = marital_status['DMDMARTZ'].astype(str)\n",
        "marital_status.dtypes\n",
        "\n",
        "listin = ['1', '2']\n",
        "marital_status = marital_status[marital_status['DMDMARTZ'].isin(listin)]\n",
        "\n",
        "marital_status['DMDMARTZ'] = marital_status['DMDMARTZ'].replace('1', 'Married')\n",
        "marital_status['DMDMARTZ'] = marital_status['DMDMARTZ'].replace('2', 'Not Married')\n",
        "\n",
        "chisquare_demo = marital_status\n"
      ],
      "metadata": {
        "colab": {
          "base_uri": "https://localhost:8080/"
        },
        "collapsed": true,
        "id": "JkFoyXDJzN5I",
        "outputId": "05dbe05f-9130-4512-efe9-b701e0dd610c"
      },
      "execution_count": 101,
      "outputs": [
        {
          "output_type": "stream",
          "name": "stderr",
          "text": [
            "<ipython-input-101-129507288f40>:4: SettingWithCopyWarning: \n",
            "A value is trying to be set on a copy of a slice from a DataFrame.\n",
            "Try using .loc[row_indexer,col_indexer] = value instead\n",
            "\n",
            "See the caveats in the documentation: https://pandas.pydata.org/pandas-docs/stable/user_guide/indexing.html#returning-a-view-versus-a-copy\n",
            "  marital_status['SEQN'] = marital_status['SEQN'].astype(str)\n",
            "<ipython-input-101-129507288f40>:5: SettingWithCopyWarning: \n",
            "A value is trying to be set on a copy of a slice from a DataFrame.\n",
            "Try using .loc[row_indexer,col_indexer] = value instead\n",
            "\n",
            "See the caveats in the documentation: https://pandas.pydata.org/pandas-docs/stable/user_guide/indexing.html#returning-a-view-versus-a-copy\n",
            "  marital_status['DMDMARTZ'] = marital_status['DMDMARTZ'].astype(str)\n"
          ]
        }
      ]
    },
    {
      "cell_type": "code",
      "source": [
        "# Rename the columns for the purpose of data visualization\n",
        "\n",
        "demographics = demographics.rename(columns={'DMDMARTZ': 'Marital Status'})\n",
        "demographics = demographics.rename(columns={'DMDEDUC2': 'Education Level'})\n",
        "\n",
        "# Create the bar plot\n",
        "\n",
        "plt.figure(figsize=(8, 5))\n",
        "ax = sns.countplot(data=demographics, x='Marital Status', hue='Education Level')\n",
        "\n",
        "# just to change the colors to avoid confusion\n",
        "colors = ['#8A9A5B', '#654321', '#9DC183', '#D2B48C', '#800000']\n",
        "for i, patch in enumerate(ax.patches):\n",
        "    patch.set_facecolor(colors[i % len(colors)])\n",
        "\n",
        "plt.title('Association Between Marital Status and Education Level')\n",
        "plt.xlabel('Marital Status')\n",
        "plt.ylabel('Count')\n",
        "plt.legend(title='Education Level', loc='upper right')\n"
      ],
      "metadata": {
        "colab": {
          "base_uri": "https://localhost:8080/",
          "height": 504
        },
        "id": "PE4VI8nH5YqV",
        "outputId": "2a0d2993-2f29-4497-b425-42947bf952ce"
      },
      "execution_count": 80,
      "outputs": [
        {
          "output_type": "execute_result",
          "data": {
            "text/plain": [
              "<matplotlib.legend.Legend at 0x7af11a38cc70>"
            ]
          },
          "metadata": {},
          "execution_count": 80
        },
        {
          "output_type": "display_data",
          "data": {
            "text/plain": [
              "<Figure size 800x500 with 1 Axes>"
            ],
            "image/png": "[encoded data removed]"
          },
          "metadata": {}
        }
      ]
    },
    {
      "cell_type": "markdown",
      "source": [
        "## **Question 2**\n",
        "\n",
        "### `Is there a difference in the mean sedentary behavior time between those who are married and those who are not married?`\n",
        "\n",
        "*   `DMDMARTZ` (marital status) - Independent Variable (IV)\n",
        "*   `PAD680` (sedentary behavior time) - Dependent Variable (DV)\n",
        "*   Type of Statistical Test used: **`T-test`** (compares the means of a continuous two key variables)\n",
        "\n",
        "\n"
      ],
      "metadata": {
        "id": "xVImwX2Pz-Ua"
      }
    },
    {
      "cell_type": "markdown",
      "source": [
        "###  **Answer:**\n",
        "\n",
        "#### There is **no significant** difference in the sedentary behavior time between those individuals who are married and those who are not married."
      ],
      "metadata": {
        "id": "E5OG7Aqb8TRL"
      }
    },
    {
      "cell_type": "markdown",
      "source": [
        "## **Analysis:**"
      ],
      "metadata": {
        "id": "e0vBBHcPc3cX"
      }
    },
    {
      "cell_type": "code",
      "source": [
        "from scipy.stats import ttest_ind\n",
        "\n",
        "# Merge the marital status info into the p_activity data frame\n",
        "\n",
        "merged = pd.merge(p_activity, marital_status, on='SEQN', how='left')\n",
        "\n",
        "# Filter physical activity data frame using the original 'DMDMARTZ'(marital status) 1 (married) & 2 (not married) values\n",
        "#married = p_activity[p_activity['DMDMARTZ'] == '1']['PAD680']\n",
        "#not_married = p_activity[p_activity['DMDMARTZ'] == '2']['PAD680']\n",
        "\n",
        "#Use the merged data frame and the updated 'DMDMARTZ' values\n",
        "married = merged[merged['DMDMARTZ'] == 'Married']['PAD680']\n",
        "not_married = merged[merged['DMDMARTZ'] == 'Not Married']['PAD680']\n",
        "\n",
        "\n",
        "# Print the number of participants in each group\n",
        "\n",
        "print(f\"Number of Married Participants: {len(married)}\")\n",
        "print(f\"Number of Not Married Participants: {len(not_married)}\")\n",
        "\n",
        "# Perform Non-Paired T-test\n",
        "\n",
        "stat, p_value = ttest_ind(married, not_married)\n",
        "print(f\"T-test Statistic: {stat}, p-value: {p_value}\")\n",
        "\n",
        "# Interpretation\n",
        "\n",
        "if p_value < 0.05:\n",
        "    print(\"There is a significant difference in the sedentary behavior between those individuals who are married and those who are not married.\")\n",
        "else:\n",
        "    print(\"There is no significant difference in the sedentary behavior time between those individuals who are married and those who are not married.\")"
      ],
      "metadata": {
        "colab": {
          "base_uri": "https://localhost:8080/"
        },
        "id": "UC4670IOJDj6",
        "outputId": "9da74115-4cb3-4800-8294-896efa920d92"
      },
      "execution_count": 102,
      "outputs": [
        {
          "output_type": "stream",
          "name": "stdout",
          "text": [
            "Number of Married Participants: 0\n",
            "Number of Not Married Participants: 0\n",
            "T-test Statistic: nan, p-value: nan\n",
            "There is no significant difference in the sedentary behavior time between those individuals who are married and those who are not married.\n"
          ]
        }
      ]
    },
    {
      "cell_type": "markdown",
      "source": [
        "## **Question 3**\n",
        "\n",
        "### `How do age and marital status affect systolic blood pressure?`\n",
        "\n",
        "*   `RIDAGEYR` (age) - Independent Variable (IV)\n",
        "*   `DMDMARTZ` (marital status, recoded) - Independent Variable (IV)\n",
        "*   `BPXOSY3` (systolic blood pressure) - Dependent Variable (DV)\n",
        "*   Type of Statistical Test used: `2-way` **`ANOVA`** (analyzes the effect of two independent variables and a dependent variable)"
      ],
      "metadata": {
        "id": "H6w4vSQH8gd5"
      }
    },
    {
      "cell_type": "markdown",
      "source": [
        "###  **Answer:**\n",
        "\n",
        "#### • `Marital Status` (DMDMARTZ) on **Systolic BP** - *Main effect*: there is a **statistically significant** effect.\n",
        "          > F-value: 14996.105454\n",
        "          > p-value: 0.000000\n",
        "#### • `Age in Years` (RIDAGEYR) on **Systolic BP** - *Main effect*: same with marital status, age has a **statistically significant** effect on SBP.\n",
        "          > F-value: 1112.368439\n",
        "          > p-value: 1.722970\n",
        "#### • `Effect for Both Marital Status & Age` - *Interaction effect*: there is a **significant** effect between these demographics on SBP, but not as strong as the individual main effects of marital status and age.\n",
        "          > F-value: 10.148355\n",
        "          > p-value: 3.429116\n",
        "\n"
      ],
      "metadata": {
        "id": "BUMHPjbcEuzG"
      }
    },
    {
      "cell_type": "markdown",
      "source": [
        "## **Analysis:**"
      ],
      "metadata": {
        "id": "_ONJ3_Hbc6hW"
      }
    },
    {
      "cell_type": "code",
      "source": [
        "import statsmodels.api as sm\n",
        "from statsmodels.formula.api import ols\n",
        "\n",
        "\n",
        "# Retrieve the applicable values/columns\n",
        "\n",
        "print(demographics.columns)\n",
        "\n",
        "demo = demographics[['SEQN', 'RIDAGEYR', 'DMDMARTZ']]\n",
        "sbp = bp[['SEQN', 'BPXOSY3']]\n",
        "print(demographics)\n",
        "print(bp)\n",
        "\n",
        "# Merge the age and marital status (demographics) information into the blood pressure (SBP) data frame\n",
        "\n",
        "merged = pd.merge(demo[['SEQN', 'RIDAGEYR', 'DMDMARTZ']], sbp[['SEQN', 'BPXOSY3']], on='SEQN', how='left')\n",
        "\n",
        "# Remove missing values in key variables (age and SBP)\n",
        "\n",
        "data = merged.dropna(subset=['RIDAGEYR', 'BPXOSY3', 'DMDMARTZ'])\n",
        "\n",
        "# Perform a 2-way ANOVA test\n",
        "\n",
        "model = ols('BPXOSY3 ~ C(DMDMARTZ) * RIDAGEYR', data=data).fit() # This is to get both the individual main effects and interaction\n",
        "table = sm.stats.anova_lm(model, typ=2)\n",
        "print(table)\n",
        "\n"
      ],
      "metadata": {
        "colab": {
          "base_uri": "https://localhost:8080/"
        },
        "id": "eVi6mwa08fyV",
        "outputId": "03327542-19a2-4d6c-90b6-29d60c4ec4e3"
      },
      "execution_count": 104,
      "outputs": [
        {
          "output_type": "stream",
          "name": "stdout",
          "text": [
            "Index(['SEQN', 'SDDSRVYR', 'RIDSTATR', 'RIAGENDR', 'RIDAGEYR', 'RIDAGEMN',\n",
            "       'RIDRETH1', 'RIDRETH3', 'RIDEXMON', 'RIDEXAGM', 'DMQMILIZ', 'DMDBORN4',\n",
            "       'DMDYRUSR', 'DMDEDUC2', 'DMDMARTZ', 'RIDEXPRG', 'DMDHHSIZ', 'DMDHRGND',\n",
            "       'DMDHRAGZ', 'DMDHREDZ', 'DMDHRMAZ', 'DMDHSEDZ', 'WTINT2YR', 'WTMEC2YR',\n",
            "       'SDMVSTRA', 'SDMVPSU', 'INDFMPIR'],\n",
            "      dtype='object')\n",
            "           SEQN  SDDSRVYR  RIDSTATR  RIAGENDR  RIDAGEYR  RIDAGEMN  RIDRETH1  \\\n",
            "0      130378.0      12.0       2.0       1.0      43.0       NaN       5.0   \n",
            "1      130379.0      12.0       2.0       1.0      66.0       NaN       3.0   \n",
            "2      130380.0      12.0       2.0       2.0      44.0       NaN       2.0   \n",
            "3      130381.0      12.0       2.0       2.0       5.0       NaN       5.0   \n",
            "4      130382.0      12.0       2.0       1.0       2.0       NaN       3.0   \n",
            "...         ...       ...       ...       ...       ...       ...       ...   \n",
            "11928  142306.0      12.0       2.0       1.0       9.0       NaN       2.0   \n",
            "11929  142307.0      12.0       2.0       2.0      49.0       NaN       4.0   \n",
            "11930  142308.0      12.0       2.0       1.0      50.0       NaN       2.0   \n",
            "11931  142309.0      12.0       2.0       1.0      40.0       NaN       2.0   \n",
            "11932  142310.0      12.0       2.0       2.0      80.0       NaN       3.0   \n",
            "\n",
            "       RIDRETH3  RIDEXMON  RIDEXAGM  ...  DMDHRGND  DMDHRAGZ  DMDHREDZ  \\\n",
            "0           6.0       2.0       NaN  ...       NaN       NaN       NaN   \n",
            "1           3.0       2.0       NaN  ...       NaN       NaN       NaN   \n",
            "2           2.0       1.0       NaN  ...       NaN       NaN       NaN   \n",
            "3           7.0       1.0      71.0  ...       2.0       2.0       2.0   \n",
            "4           3.0       2.0      34.0  ...       2.0       2.0       3.0   \n",
            "...         ...       ...       ...  ...       ...       ...       ...   \n",
            "11928       2.0       1.0     111.0  ...       1.0       3.0       3.0   \n",
            "11929       4.0       2.0       NaN  ...       NaN       NaN       NaN   \n",
            "11930       2.0       1.0       NaN  ...       NaN       NaN       NaN   \n",
            "11931       2.0       1.0       NaN  ...       NaN       NaN       NaN   \n",
            "11932       3.0       1.0       NaN  ...       NaN       NaN       NaN   \n",
            "\n",
            "      DMDHRMAZ DMDHSEDZ      WTINT2YR      WTMEC2YR  SDMVSTRA  SDMVPSU  \\\n",
            "0          NaN      NaN  50055.450807  54374.463898     173.0      2.0   \n",
            "1          NaN      NaN  29087.450605  34084.721548     173.0      2.0   \n",
            "2          NaN      NaN  80062.674301  81196.277992     174.0      1.0   \n",
            "3          3.0      NaN  38807.268902  55698.607106     182.0      2.0   \n",
            "4          1.0      2.0  30607.519774  36434.146346     182.0      2.0   \n",
            "...        ...      ...           ...           ...       ...      ...   \n",
            "11928      3.0      NaN  11147.192563  13459.129019     176.0      1.0   \n",
            "11929      NaN      NaN  69419.620456  64962.328962     181.0      1.0   \n",
            "11930      NaN      NaN  32696.313477  44367.534132     183.0      2.0   \n",
            "11931      NaN      NaN  30547.974564  46249.361849     176.0      1.0   \n",
            "11932      NaN      NaN  32753.585494  49647.225467     187.0      2.0   \n",
            "\n",
            "       INDFMPIR  \n",
            "0          5.00  \n",
            "1          5.00  \n",
            "2          1.41  \n",
            "3          1.53  \n",
            "4          3.60  \n",
            "...         ...  \n",
            "11928      2.01  \n",
            "11929       NaN  \n",
            "11930      1.95  \n",
            "11931      3.11  \n",
            "11932      5.00  \n",
            "\n",
            "[11933 rows x 27 columns]\n",
            "          SEQN BPAOARM  BPAOCSZ  BPXOSY1  BPXODI1  BPXOSY2  BPXODI2  BPXOSY3  \\\n",
            "0     130378.0    b'R'      4.0    135.0     98.0    131.0     96.0    132.0   \n",
            "1     130379.0    b'R'      4.0    121.0     84.0    117.0     76.0    113.0   \n",
            "2     130380.0    b'R'      4.0    111.0     79.0    112.0     80.0    104.0   \n",
            "3     130386.0    b'R'      4.0    110.0     72.0    120.0     74.0    115.0   \n",
            "4     130387.0    b'R'      4.0    143.0     76.0    136.0     74.0    145.0   \n",
            "...        ...     ...      ...      ...      ...      ...      ...      ...   \n",
            "7796  142306.0    b'R'      2.0      NaN      NaN      NaN      NaN      NaN   \n",
            "7797  142307.0    b'R'      4.0    127.0     75.0    132.0     73.0    131.0   \n",
            "7798  142308.0    b'R'      3.0    106.0     65.0    106.0     69.0    112.0   \n",
            "7799  142309.0    b'R'      3.0    127.0     81.0    125.0     82.0    128.0   \n",
            "7800  142310.0    b'R'      4.0    128.0     81.0    121.0     78.0    129.0   \n",
            "\n",
            "      BPXODI3  BPXOPLS1  BPXOPLS2  BPXOPLS3  \n",
            "0        94.0      82.0      79.0      82.0  \n",
            "1        76.0      72.0      71.0      73.0  \n",
            "2        76.0      84.0      83.0      77.0  \n",
            "3        75.0      59.0      64.0      64.0  \n",
            "4        78.0      80.0      80.0      77.0  \n",
            "...       ...       ...       ...       ...  \n",
            "7796      NaN       NaN       NaN       NaN  \n",
            "7797     72.0      71.0      70.0      67.0  \n",
            "7798     74.0      58.0      61.0      69.0  \n",
            "7799     81.0      80.0      79.0      83.0  \n",
            "7800     81.0      77.0      78.0      79.0  \n",
            "\n",
            "[7801 rows x 12 columns]\n",
            "                            sum_sq      df             F         PR(>F)\n",
            "C(DMDMARTZ)           1.510795e+07     4.0  14996.105454   0.000000e+00\n",
            "RIDAGEYR              2.801661e+05     1.0   1112.368439  1.722970e-227\n",
            "C(DMDMARTZ):RIDAGEYR  1.022404e+04     4.0     10.148355   3.429116e-08\n",
            "Residual              1.881680e+06  7471.0           NaN            NaN\n"
          ]
        }
      ]
    },
    {
      "cell_type": "code",
      "source": [
        "# Group the data\n",
        "groups = data.groupby('RIDAGEYR')[['DMDMARTZ', 'BPXOSY3']].apply(list)\n",
        "groups"
      ],
      "metadata": {
        "colab": {
          "base_uri": "https://localhost:8080/",
          "height": 489
        },
        "id": "pbooBxQsJa1J",
        "outputId": "37685100-11c2-43e7-c72c-dcc43f93e4c6"
      },
      "execution_count": 105,
      "outputs": [
        {
          "output_type": "execute_result",
          "data": {
            "text/plain": [
              "RIDAGEYR\n",
              "8.0     [DMDMARTZ, BPXOSY3]\n",
              "9.0     [DMDMARTZ, BPXOSY3]\n",
              "10.0    [DMDMARTZ, BPXOSY3]\n",
              "11.0    [DMDMARTZ, BPXOSY3]\n",
              "12.0    [DMDMARTZ, BPXOSY3]\n",
              "               ...         \n",
              "76.0    [DMDMARTZ, BPXOSY3]\n",
              "77.0    [DMDMARTZ, BPXOSY3]\n",
              "78.0    [DMDMARTZ, BPXOSY3]\n",
              "79.0    [DMDMARTZ, BPXOSY3]\n",
              "80.0    [DMDMARTZ, BPXOSY3]\n",
              "Length: 73, dtype: object"
            ],
            "text/html": [
              "<div>\n",
              "<style scoped>\n",
              "    .dataframe tbody tr th:only-of-type {\n",
              "        vertical-align: middle;\n",
              "    }\n",
              "\n",
              "    .dataframe tbody tr th {\n",
              "        vertical-align: top;\n",
              "    }\n",
              "\n",
              "    .dataframe thead th {\n",
              "        text-align: right;\n",
              "    }\n",
              "</style>\n",
              "<table border=\"1\" class=\"dataframe\">\n",
              "  <thead>\n",
              "    <tr style=\"text-align: right;\">\n",
              "      <th></th>\n",
              "      <th>0</th>\n",
              "    </tr>\n",
              "    <tr>\n",
              "      <th>RIDAGEYR</th>\n",
              "      <th></th>\n",
              "    </tr>\n",
              "  </thead>\n",
              "  <tbody>\n",
              "    <tr>\n",
              "      <th>8.0</th>\n",
              "      <td>[DMDMARTZ, BPXOSY3]</td>\n",
              "    </tr>\n",
              "    <tr>\n",
              "      <th>9.0</th>\n",
              "      <td>[DMDMARTZ, BPXOSY3]</td>\n",
              "    </tr>\n",
              "    <tr>\n",
              "      <th>10.0</th>\n",
              "      <td>[DMDMARTZ, BPXOSY3]</td>\n",
              "    </tr>\n",
              "    <tr>\n",
              "      <th>11.0</th>\n",
              "      <td>[DMDMARTZ, BPXOSY3]</td>\n",
              "    </tr>\n",
              "    <tr>\n",
              "      <th>12.0</th>\n",
              "      <td>[DMDMARTZ, BPXOSY3]</td>\n",
              "    </tr>\n",
              "    <tr>\n",
              "      <th>...</th>\n",
              "      <td>...</td>\n",
              "    </tr>\n",
              "    <tr>\n",
              "      <th>76.0</th>\n",
              "      <td>[DMDMARTZ, BPXOSY3]</td>\n",
              "    </tr>\n",
              "    <tr>\n",
              "      <th>77.0</th>\n",
              "      <td>[DMDMARTZ, BPXOSY3]</td>\n",
              "    </tr>\n",
              "    <tr>\n",
              "      <th>78.0</th>\n",
              "      <td>[DMDMARTZ, BPXOSY3]</td>\n",
              "    </tr>\n",
              "    <tr>\n",
              "      <th>79.0</th>\n",
              "      <td>[DMDMARTZ, BPXOSY3]</td>\n",
              "    </tr>\n",
              "    <tr>\n",
              "      <th>80.0</th>\n",
              "      <td>[DMDMARTZ, BPXOSY3]</td>\n",
              "    </tr>\n",
              "  </tbody>\n",
              "</table>\n",
              "<p>73 rows × 1 columns</p>\n",
              "</div><br><label><b>dtype:</b> object</label>"
            ]
          },
          "metadata": {},
          "execution_count": 105
        }
      ]
    },
    {
      "cell_type": "markdown",
      "source": [
        "## **Question 4**\n",
        "\n",
        "### `Is there a correlation between self-reported weight and minutes of sedentary behavior?`\n",
        "\n",
        "*   `WHD020` (self-reported weight) - Independent Variable (IV)\n",
        "*   `PAD680` (sedentary behavior time) - Dependent Variable (DV)\n",
        "*   Type of Statistical Test used: `Pearson` **`Correlation`** (to analyze the correlation between two continuous key variables)\n",
        "\n"
      ],
      "metadata": {
        "id": "m-JYEab9UZ8l"
      }
    },
    {
      "cell_type": "markdown",
      "source": [
        "###  **Answer:**\n",
        "\n",
        "#### There is a **statistically significant** AND **moderate positive** linear relationship between self-reported weight and sedentary behavior time, as shown below. Given the p-value is `<0.05`, there's a <5% chance that these results are due to random variation, and not because of an actual effect. This information is taken from Professor Hants' **Inferential Statistics** powerpoint, found in slide 31.\n",
        "\n",
        "* **Pearson Correlation**: `0.1559714584645021` (moderate positive)\n",
        "\n",
        "* **p-value**: `1.6988498386828133e-44` (statistically significant)"
      ],
      "metadata": {
        "id": "dgkWvUOrknJv"
      }
    },
    {
      "cell_type": "markdown",
      "source": [
        "## **Analysis:**"
      ],
      "metadata": {
        "id": "p79b6VSiciir"
      }
    },
    {
      "cell_type": "code",
      "source": [
        "from scipy.stats import pearsonr\n",
        "from random import sample\n",
        "\n",
        "# Retrieve the applicable values/columns\n",
        "\n",
        "weight = weight[['SEQN', 'WHD020']]\n",
        "p_activity = p_activity[['SEQN', 'PAD680']]\n",
        "\n",
        "# Merge the weight and sedentary behavior time data\n",
        "\n",
        "merged = pd.merge(weight, p_activity, on='SEQN', how='left')\n",
        "\n",
        "# Drop/remove rows with missing values in self-reported weight & sedentary behavior time data frame\n",
        "\n",
        "correlation_nomiss = merged.dropna(subset=['WHD020', 'PAD680'])\n",
        "\n",
        "# Create two lists of equal values for self-reported weight and sedentary behavior time\n",
        "\n",
        "correlation_wt = list(correlation_nomiss['WHD020'])\n",
        "correlation_sedentary = list(correlation_nomiss['PAD680'])\n",
        "\n",
        "# Print samples and lengths of the lists\n",
        "\n",
        "print(sample(correlation_wt, 10))\n",
        "print('Length of sample weight: ', len(correlation_wt))\n",
        "print(sample(correlation_sedentary, 10))\n",
        "print('Length of sample sedentary behavior: ', len(correlation_sedentary))\n",
        "\n",
        "\n",
        "# Calculate Pearson correlation\n",
        "\n",
        "corr, p_value = pearsonr(correlation_wt, correlation_sedentary)\n",
        "print(f\"Pearson Correlation Coefficient: {corr}, p-value: {p_value}\")\n",
        "\n",
        "# Interpretation\n",
        "\n",
        "if p_value < 0.05:\n",
        "    print(\"There is a significant linear relationship between self-reported weight and sedentary behavior time.\")\n",
        "else:\n",
        "    print(\"There is no significant linear relationship between self-reported weight and sedentary behavior time.\")"
      ],
      "metadata": {
        "colab": {
          "base_uri": "https://localhost:8080/"
        },
        "id": "jlbfjHiXEuQ4",
        "outputId": "8f2f1d53-7be4-45b8-f161-1048362535e2"
      },
      "execution_count": 113,
      "outputs": [
        {
          "output_type": "stream",
          "name": "stdout",
          "text": [
            "[215.0, 120.0, 170.0, 145.0, 167.0, 250.0, 160.0, 141.0, 151.0, 192.0]\n",
            "Length of sample weight:  7954\n",
            "[180.0, 480.0, 300.0, 600.0, 300.0, 840.0, 180.0, 540.0, 480.0, 240.0]\n",
            "Length of sample sedentary behavior:  7954\n",
            "Pearson Correlation Coefficient: 0.1559714584645021, p-value: 1.6988498386828133e-44\n",
            "There is a significant linear relationship between self-reported weight and sedentary behavior time.\n"
          ]
        }
      ]
    },
    {
      "cell_type": "code",
      "source": [
        "# Create a data visualization for question 4\n",
        "\n",
        "plt.figure(figsize=(9, 5))\n",
        "sns.scatterplot(x=correlation_wt, y=correlation_sedentary, alpha=0.7, color='coral')\n",
        "plt.title('Self-Reported Weight and Sedentary Behavior (Minutes)')\n",
        "plt.xlabel('Self-Reported Weight')\n",
        "plt.ylabel('Sedentary Behavior Time')\n",
        "plt.show()"
      ],
      "metadata": {
        "colab": {
          "base_uri": "https://localhost:8080/",
          "height": 487
        },
        "id": "y-WQRo5VdGhB",
        "outputId": "9c90eb8d-b58a-4e80-8303-9d175a4d0834"
      },
      "execution_count": 148,
      "outputs": [
        {
          "output_type": "display_data",
          "data": {
            "text/plain": [
              "<Figure size 900x500 with 1 Axes>"
            ],
            "image/png": "[encoded data removed]"
          },
          "metadata": {}
        }
      ]
    },
    {
      "cell_type": "markdown",
      "source": [
        "## **Question 5: Creative Analysis**\n",
        "\n",
        "### `Do different age groups (age in years) have different sedentary behavior?`\n",
        "\n",
        "*   `RIDAGEYR` (age in years) - Categorical, Independent Variable (IV)\n",
        "*   `PAD680` (minutes of sedentary behavior) - Dependent Variable (DV)\n",
        "*   Type of Statistical Test used: `1-way` **`ANOVA`** (compares the means of a continuous dependent variable and a single categorical independent variable)\n",
        "\n",
        "- `Reason for choosing this question`: Analyzing sedentary behavior across different age groups provides valuable insights into how physical activity levels change with age. By understanding this behavior, we can take the necessary steps to prevent, promote, and improve healthier lifestyle choices. As we all know, one of the risk factors for many health illnesses is related to a sedentary lifestyle, making this analysis would be highly relevant and capable of greatly impacting the general public."
      ],
      "metadata": {
        "id": "c7I1a1jclvZq"
      }
    },
    {
      "cell_type": "markdown",
      "source": [
        "###  **Answer:**\n",
        "\n",
        "#### There is **no statistically significant** difference in the minutes of sedentary behavior between different age groups. Given the p-value is `>0.05`, it fails to reject the null hypothesis (no significant difference between groups), in reference to Professor Hants' **Inferential Statistics** powerpoint, found in slide 31.\n",
        "\n",
        "*  **1-Way ANOVA Test Statistic**: `0.11255241591314752`\n",
        "*  **p-value**: `0.8935528425095732`\n"
      ],
      "metadata": {
        "id": "Qtr31s6X03hg"
      }
    },
    {
      "cell_type": "markdown",
      "source": [
        "## **Analysis:**"
      ],
      "metadata": {
        "id": "HGzTcH3_c-Uh"
      }
    },
    {
      "cell_type": "code",
      "source": [
        "import pandas as pd\n",
        "from scipy.stats import f_oneway\n",
        "\n",
        "# Retrieve the applicable values/columns\n",
        "\n",
        "demographics = demographics[['SEQN', 'RIDAGEYR']]\n",
        "p_activity = p_activity[['SEQN', 'PAD680']]\n",
        "print(demographics)\n",
        "print(p_activity)\n",
        "\n",
        "# Merge the two datasets based on SEQN\n",
        "merged_data = pd.merge(demographics, p_activity, on='SEQN')\n",
        "\n",
        "# Create a new data frame (age group)\n",
        "\n",
        "bins = [0, 30, 60, 80]  # Adjust based on your specific age group definitions\n",
        "labels = ['Young', 'Middle-aged', 'Older']\n",
        "merged_data['AgeGroup'] = pd.cut(data['RIDAGEYR'], bins=bins, labels=labels, right=False)\n",
        "\n",
        "\n",
        "# Drop rows with missing values in the key variables (age in years & minutes of sedentary behavior)\n",
        "\n",
        "merged_data = merged_data.dropna(subset=['AgeGroup', 'PAD680'])\n",
        "\n",
        "# Group the data\n",
        "\n",
        "groups = merged_data.groupby('AgeGroup')['PAD680'].apply(list)\n",
        "print(groups)\n",
        "\n",
        "# Perform 1-way ANOVA\n",
        "\n",
        "stat, p_value = f_oneway(*groups)\n",
        "print(f\"1-Way ANOVA Test Statistic: {stat}, p-value: {p_value}\")\n",
        "\n",
        "# Interpretation\n",
        "if p_value > 0.05:\n",
        "    print(\"There is no significant difference of sedentary behavior between different age groups.\")\n",
        "else:\n",
        "    print(\"There is a significant difference of sedentary behavior between different age groups.\")"
      ],
      "metadata": {
        "colab": {
          "base_uri": "https://localhost:8080/"
        },
        "collapsed": true,
        "id": "2jfu0seHlr93",
        "outputId": "8d425db9-e87f-4159-b6e5-d70379d2651c"
      },
      "execution_count": 57,
      "outputs": [
        {
          "output_type": "stream",
          "name": "stdout",
          "text": [
            "           SEQN  RIDAGEYR\n",
            "0      130378.0      43.0\n",
            "1      130379.0      66.0\n",
            "2      130380.0      44.0\n",
            "3      130381.0       5.0\n",
            "4      130382.0       2.0\n",
            "...         ...       ...\n",
            "11928  142306.0       9.0\n",
            "11929  142307.0      49.0\n",
            "11930  142308.0      50.0\n",
            "11931  142309.0      40.0\n",
            "11932  142310.0      80.0\n",
            "\n",
            "[11933 rows x 2 columns]\n",
            "          SEQN  PAD680\n",
            "0     130378.0   360.0\n",
            "1     130379.0   480.0\n",
            "2     130380.0   240.0\n",
            "3     130384.0    60.0\n",
            "4     130385.0   180.0\n",
            "...        ...     ...\n",
            "8148  142305.0   480.0\n",
            "8149  142307.0   480.0\n",
            "8150  142308.0   600.0\n",
            "8151  142309.0   240.0\n",
            "8152  142310.0   360.0\n",
            "\n",
            "[8080 rows x 2 columns]\n",
            "AgeGroup\n",
            "Young          [240.0, 120.0, 60.0, 420.0, 240.0, 360.0, 660....\n",
            "Middle-aged    [360.0, 240.0, 720.0, 300.0, 720.0, 420.0, 240...\n",
            "Older          [480.0, 300.0, 360.0, 960.0, 840.0, 300.0, 360...\n",
            "Name: PAD680, dtype: object\n",
            "1-Way ANOVA Test Statistic: 0.11255241591314752, p-value: 0.8935528425095732\n",
            "There is no significant difference of sedentary behavior between different age groups.\n"
          ]
        },
        {
          "output_type": "stream",
          "name": "stderr",
          "text": [
            "<ipython-input-57-329fecbb68d7>:27: FutureWarning: The default of observed=False is deprecated and will be changed to True in a future version of pandas. Pass observed=False to retain current behavior or observed=True to adopt the future default and silence this warning.\n",
            "  groups = merged_data.groupby('AgeGroup')['PAD680'].apply(list)\n"
          ]
        }
      ]
    },
    {
      "cell_type": "code",
      "source": [
        "# Create a data visualization for question 5\n",
        "\n",
        "plt.figure(figsize=(8, 5))\n",
        "box = sns.boxplot(x='AgeGroup', y='PAD680', data=merged_data, palette=\"Set2\")\n",
        "plt.title('Minutes of Sedentary Behavior by Age Group')\n",
        "plt.xlabel('Age Group')\n",
        "plt.ylabel('Minutes of Sedentary Behavior')\n",
        "plt.show()"
      ],
      "metadata": {
        "colab": {
          "base_uri": "https://localhost:8080/",
          "height": 594
        },
        "id": "dS2IO_gTHd3F",
        "outputId": "16f2a872-9435-44b5-d7dd-9c804206da78"
      },
      "execution_count": 149,
      "outputs": [
        {
          "output_type": "stream",
          "name": "stderr",
          "text": [
            "<ipython-input-149-6ac2df9c3c88>:4: FutureWarning: \n",
            "\n",
            "Passing `palette` without assigning `hue` is deprecated and will be removed in v0.14.0. Assign the `x` variable to `hue` and set `legend=False` for the same effect.\n",
            "\n",
            "  box = sns.boxplot(x='AgeGroup', y='PAD680', data=merged_data, palette=\"Set2\")\n"
          ]
        },
        {
          "output_type": "display_data",
          "data": {
            "text/plain": [
              "<Figure size 800x500 with 1 Axes>"
            ],
            "image/png": "[encoded data removed]"
          },
          "metadata": {}
        }
      ]
    }
  ]
}